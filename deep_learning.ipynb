{
 "cells": [
  {
   "cell_type": "markdown",
   "id": "9f8b1961",
   "metadata": {},
   "source": [
    "# Imports"
   ]
  },
  {
   "cell_type": "code",
   "execution_count": 1,
   "id": "bc6a214a",
   "metadata": {},
   "outputs": [],
   "source": [
    "import pickle"
   ]
  },
  {
   "cell_type": "markdown",
   "id": "1000c675",
   "metadata": {},
   "source": [
    "# Load In Processed Class Balances"
   ]
  },
  {
   "cell_type": "code",
   "execution_count": 2,
   "id": "d5c7d362",
   "metadata": {},
   "outputs": [
    {
     "name": "stdout",
     "output_type": "stream",
     "text": [
      "Data loaded successfully from outputs_processing/processed_data.pkl\n",
      "Train samples: 9912, Test samples: 4248\n",
      "Example text: complexity course concentrated last week...\n"
     ]
    }
   ],
   "source": [
    "# load the processed data \n",
    "with open('outputs_processing/processed_data.pkl', 'rb') as f:\n",
    "    data = pickle.load(f)\n",
    "\n",
    "# unpack everything you saved\n",
    "X_train_tfidf = data['X_train_tfidf']\n",
    "X_test_tfidf  = data['X_test_tfidf']\n",
    "y_train_enc   = data['y_train_enc']\n",
    "y_test_enc    = data['y_test_enc']\n",
    "\n",
    "X_train = data['X_train']\n",
    "X_test  = data['X_test']\n",
    "y_train = data['y_train']\n",
    "y_test  = data['y_test']\n",
    "\n",
    "X = data['X']\n",
    "y = data['y']\n",
    "\n",
    "print(\"Data loaded successfully from outputs_processing/processed_data.pkl\")\n",
    "print(f\"Train samples: {len(X_train)}, Test samples: {len(X_test)}\")\n",
    "print(f\"Example text: {X_train[0][:120]}...\")"
   ]
  }
 ],
 "metadata": {
  "kernelspec": {
   "display_name": "NLP_ENV_ITRPA",
   "language": "python",
   "name": "python3"
  },
  "language_info": {
   "codemirror_mode": {
    "name": "ipython",
    "version": 3
   },
   "file_extension": ".py",
   "mimetype": "text/x-python",
   "name": "python",
   "nbconvert_exporter": "python",
   "pygments_lexer": "ipython3",
   "version": "3.11.13"
  }
 },
 "nbformat": 4,
 "nbformat_minor": 5
}
