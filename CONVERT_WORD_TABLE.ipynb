{
 "cells": [
  {
   "cell_type": "code",
   "execution_count": 3,
   "id": "9833dd85",
   "metadata": {},
   "outputs": [
    {
     "name": "stdout",
     "output_type": "stream",
     "text": [
      "Saved to: ./tables/tuned_svm_table.docx\n"
     ]
    }
   ],
   "source": [
    "from docx import Document\n",
    "import os\n",
    "\n",
    "# ===== EDIT THIS PATH =====\n",
    "SAVE_PATH = r\"./tables/tuned_svm_table.docx\"\n",
    "# ==========================\n",
    "\n",
    "# Ensure directory exists\n",
    "os.makedirs(os.path.dirname(SAVE_PATH), exist_ok=True)\n",
    "\n",
    "rows = [\n",
    "    [\"Class\", \"Precision\", \"Recall\", \"F1-score\", \"Support\"],\n",
    "    [\"Negative\", \"0.6433\", \"0.7133\", \"0.6765\", \"1416\"],\n",
    "    [\"Neutral\", \"0.5763\", \"0.5120\", \"0.5423\", \"1416\"],\n",
    "    [\"Positive\", \"0.7768\", \"0.7790\", \"0.7779\", \"1416\"],\n",
    "    [\"Macro Avg\", \"0.6655\", \"0.6681\", \"0.6655\", \"4248\"],\n",
    "    [\"Weighted Avg\", \"0.6655\", \"0.6681\", \"0.6655\", \"4248\"],\n",
    "    [\"Accuracy\", \"—\", \"—\", \"0.6681\", \"4248\"],\n",
    "]\n",
    "\n",
    "doc = Document()\n",
    "doc.add_heading(\"Per-class Metrics — Tuned SVM\", level=1)\n",
    "\n",
    "table = doc.add_table(rows=1, cols=len(rows[0]))\n",
    "hdr_cells = table.rows[0].cells\n",
    "\n",
    "for i, heading in enumerate(rows[0]):\n",
    "    hdr_cells[i].text = heading\n",
    "\n",
    "for row_data in rows[1:]:\n",
    "    row_cells = table.add_row().cells\n",
    "    for i, item in enumerate(row_data):\n",
    "        row_cells[i].text = str(item)\n",
    "\n",
    "doc.add_paragraph(\"\\nTrain Accuracy: 0.8202\")\n",
    "doc.add_paragraph(\"Train Time: 0.025 sec\")\n",
    "\n",
    "doc.save(SAVE_PATH)\n",
    "\n",
    "print(\"Saved to:\", SAVE_PATH)\n"
   ]
  }
 ],
 "metadata": {
  "kernelspec": {
   "display_name": "NLP_ENV_ITRPA",
   "language": "python",
   "name": "python3"
  },
  "language_info": {
   "codemirror_mode": {
    "name": "ipython",
    "version": 3
   },
   "file_extension": ".py",
   "mimetype": "text/x-python",
   "name": "python",
   "nbconvert_exporter": "python",
   "pygments_lexer": "ipython3",
   "version": "3.11.13"
  }
 },
 "nbformat": 4,
 "nbformat_minor": 5
}
