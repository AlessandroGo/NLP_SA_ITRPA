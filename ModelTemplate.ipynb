{
  "nbformat": 4,
  "nbformat_minor": 0,
  "metadata": {
    "colab": {
      "provenance": [],
      "toc_visible": true,
      "machine_shape": "hm",
      "gpuType": "L4"
    },
    "kernelspec": {
      "name": "python3",
      "display_name": "Python 3"
    },
    "language_info": {
      "name": "python"
    },
    "accelerator": "GPU"
  },
  "cells": [
    {
      "cell_type": "markdown",
      "source": [
        "# Initial Setup"
      ],
      "metadata": {
        "id": "uwotI5d7Vvkg"
      }
    },
    {
      "cell_type": "code",
      "execution_count": 2,
      "metadata": {
        "id": "pw1HACkygczk",
        "colab": {
          "base_uri": "https://localhost:8080/"
        },
        "outputId": "e5aa5951-5d0c-4491-d392-1eca304a646a"
      },
      "outputs": [
        {
          "output_type": "stream",
          "name": "stdout",
          "text": [
            "Mounted at /content/drive\n"
          ]
        }
      ],
      "source": [
        "from google.colab import drive\n",
        "import os\n",
        "\n",
        "drive.mount('/content/drive')\n",
        "\n",
        "BASE_DIR = \"/content/drive/MyDrive/ITRPA_PROJ\"\n",
        "OUTPUT_DIR = os.path.join(BASE_DIR, \"outputs_colab\")\n",
        "\n",
        "req_path = os.path.join(BASE_DIR, \"collab_requirements.txt\")\n",
        "!pip install -q -r \"{req_path}\""
      ]
    },
    {
      "cell_type": "code",
      "source": [
        "def setup_paths(model_name: str):\n",
        "    base = \"/content/drive/MyDrive/ITRPA_PROJ\"\n",
        "    output = os.path.join(base, \"outputs_colab\")\n",
        "    model_dir = os.path.join(output, model_name)\n",
        "    os.makedirs(model_dir, exist_ok=True)\n",
        "    return base, output, model_dir\n"
      ],
      "metadata": {
        "id": "Q9XGDwOljEB5"
      },
      "execution_count": 3,
      "outputs": []
    },
    {
      "cell_type": "code",
      "source": [
        "gpu_info = !nvidia-smi\n",
        "gpu_info = '\\n'.join(gpu_info)\n",
        "if gpu_info.find('failed') >= 0:\n",
        "  print('Not connected to a GPU')\n",
        "else:\n",
        "  print(gpu_info)"
      ],
      "metadata": {
        "id": "E3MoKUK3IZS3",
        "colab": {
          "base_uri": "https://localhost:8080/"
        },
        "outputId": "9b9d4544-0a0c-4264-a713-2398243beaae"
      },
      "execution_count": 4,
      "outputs": [
        {
          "output_type": "stream",
          "name": "stdout",
          "text": [
            "Sat Oct 11 20:50:32 2025       \n",
            "+-----------------------------------------------------------------------------------------+\n",
            "| NVIDIA-SMI 550.54.15              Driver Version: 550.54.15      CUDA Version: 12.4     |\n",
            "|-----------------------------------------+------------------------+----------------------+\n",
            "| GPU  Name                 Persistence-M | Bus-Id          Disp.A | Volatile Uncorr. ECC |\n",
            "| Fan  Temp   Perf          Pwr:Usage/Cap |           Memory-Usage | GPU-Util  Compute M. |\n",
            "|                                         |                        |               MIG M. |\n",
            "|=========================================+========================+======================|\n",
            "|   0  NVIDIA L4                      Off |   00000000:00:03.0 Off |                    0 |\n",
            "| N/A   41C    P8             11W /   72W |       0MiB /  23034MiB |      0%      Default |\n",
            "|                                         |                        |                  N/A |\n",
            "+-----------------------------------------+------------------------+----------------------+\n",
            "                                                                                         \n",
            "+-----------------------------------------------------------------------------------------+\n",
            "| Processes:                                                                              |\n",
            "|  GPU   GI   CI        PID   Type   Process name                              GPU Memory |\n",
            "|        ID   ID                                                               Usage      |\n",
            "|=========================================================================================|\n",
            "|  No running processes found                                                             |\n",
            "+-----------------------------------------------------------------------------------------+\n"
          ]
        }
      ]
    },
    {
      "cell_type": "code",
      "source": [
        "import psutil\n",
        "\n",
        "ram_gb = psutil.virtual_memory().total / 1e9\n",
        "print('Your runtime has {:.1f} gigabytes of available RAM\\n'.format(ram_gb))\n",
        "\n",
        "if ram_gb < 20:\n",
        "  print('Not using a high-RAM runtime')\n",
        "else:\n",
        "  print('You are using a high-RAM runtime!')"
      ],
      "metadata": {
        "id": "9oWUqllmIaoO",
        "colab": {
          "base_uri": "https://localhost:8080/"
        },
        "outputId": "a1f586e4-0871-4ec3-e460-61146e08cd46"
      },
      "execution_count": 5,
      "outputs": [
        {
          "output_type": "stream",
          "name": "stdout",
          "text": [
            "Your runtime has 56.9 gigabytes of available RAM\n",
            "\n",
            "You are using a high-RAM runtime!\n"
          ]
        }
      ]
    },
    {
      "cell_type": "markdown",
      "source": [
        "# Imports"
      ],
      "metadata": {
        "id": "2-qTlJK7jGsL"
      }
    },
    {
      "cell_type": "code",
      "source": [
        "import pickle\n",
        "import json\n",
        "\n",
        "from sklearn.model_selection import train_test_split\n",
        "from sklearn.utils.class_weight import compute_class_weight\n",
        "from sklearn.preprocessing import label_binarize\n",
        "from sklearn.metrics import (\n",
        "    accuracy_score,\n",
        "    roc_auc_score,\n",
        "    classification_report,\n",
        "    roc_curve,\n",
        "    auc,\n",
        "    confusion_matrix\n",
        ")\n",
        "\n",
        "import torch\n",
        "import torch.nn as nn\n",
        "from torch.utils.data import Dataset, DataLoader, WeightedRandomSampler\n",
        "\n",
        "from transformers import BertModel, BertTokenizer, Trainer, TrainingArguments, AutoTokenizer, AutoModel\n",
        "from torch.utils.data import Dataset, DataLoader\n",
        "from sklearn.preprocessing import LabelEncoder\n",
        "from tqdm import tqdm\n",
        "\n",
        "from sklearn.metrics import classification_report, confusion_matrix, roc_auc_score, roc_curve, auc, accuracy_score, f1_score\n",
        "import numpy as np\n",
        "\n",
        "from torchview import draw_graph\n",
        "from tqdm import tqdm\n",
        "\n",
        "import matplotlib.pyplot as plt\n",
        "import seaborn as sns\n",
        "import pandas as pd\n",
        "import numpy as np"
      ],
      "metadata": {
        "id": "nf67xVEzjKOj"
      },
      "execution_count": 6,
      "outputs": []
    },
    {
      "cell_type": "markdown",
      "source": [
        "# Load Data"
      ],
      "metadata": {
        "id": "Am3AuSLWjNzH"
      }
    },
    {
      "cell_type": "code",
      "source": [
        "DATA_DIR = os.path.join(BASE_DIR, \"data\")\n",
        "os.makedirs(DATA_DIR, exist_ok=True)\n",
        "\n",
        "def load_datafile(data_filename=\"reviews.csv\", base_dir=BASE_DIR):\n",
        "    \"\"\"\n",
        "    Loads a CSV dataset, extracts Review and Label columns,\n",
        "    maps numeric ratings (1–5) to sentiment categories,\n",
        "    and label-encodes them for modeling.\n",
        "\n",
        "    Mapping:\n",
        "        1,2 → negative\n",
        "        3   → neutral\n",
        "        4,5 → positive\n",
        "\n",
        "    Parameters\n",
        "    ----------\n",
        "    data_filename : str\n",
        "        CSV filename (default: 'reviews.csv')\n",
        "    base_dir : str\n",
        "        Base directory (default: BASE_DIR)\n",
        "\n",
        "    Returns\n",
        "    -------\n",
        "    X : pd.Series\n",
        "        Text reviews\n",
        "    y_encoded : np.ndarray\n",
        "        Encoded sentiment labels (0=negative, 1=neutral, 2=positive)\n",
        "    label_enc : LabelEncoder\n",
        "        Fitted encoder mapping sentiments to integers\n",
        "    \"\"\"\n",
        "    data_dir = os.path.join(base_dir, \"data\")\n",
        "    os.makedirs(data_dir, exist_ok=True)\n",
        "\n",
        "    data_path = os.path.join(data_dir, data_filename)\n",
        "    if not os.path.exists(data_path):\n",
        "        raise FileNotFoundError(f\"File not found: {data_path}\")\n",
        "\n",
        "    # Load and validate\n",
        "    df = pd.read_csv(data_path)\n",
        "    if not {\"Review\", \"Label\"}.issubset(df.columns):\n",
        "        raise ValueError(\"CSV must contain 'Review' and 'Label' columns.\")\n",
        "\n",
        "    # Extract X and y\n",
        "    X = df[\"Review\"].astype(str)\n",
        "    y = pd.to_numeric(df[\"Label\"], errors=\"coerce\")\n",
        "\n",
        "    # Validate label range\n",
        "    if not y.dropna().between(1, 5).all():\n",
        "        raise ValueError(\"Label column must contain numeric values 1–5.\")\n",
        "\n",
        "    # Map numeric labels to sentiment\n",
        "    y_sentiment = y.map({1: \"negative\", 2: \"negative\",\n",
        "                         3: \"neutral\",\n",
        "                         4: \"positive\", 5: \"positive\"})\n",
        "\n",
        "    # Encode sentiment labels\n",
        "    label_enc = LabelEncoder()\n",
        "    y_encoded = label_enc.fit_transform(y_sentiment)\n",
        "\n",
        "    # Summary\n",
        "    print(f\"Loaded '{data_filename}' with shape {df.shape}\")\n",
        "    print(\"Sentiment distribution:\")\n",
        "    print(y_sentiment.value_counts())\n",
        "    print(\"Label mapping:\", dict(zip(label_enc.classes_, label_enc.transform(label_enc.classes_))))\n",
        "\n",
        "    return X, y_encoded, label_enc\n",
        "\n",
        "# Example usage\n",
        "DATA_FILE = \"reviews.csv\"\n",
        "X, y, label_enc = load_datafile(DATA_FILE)\n",
        "print(\"Shapes:\", X.shape, y.shape)"
      ],
      "metadata": {
        "id": "jIuYTqGujTS5",
        "colab": {
          "base_uri": "https://localhost:8080/"
        },
        "outputId": "ab1924a9-f550-45c1-cbda-5c3168331204"
      },
      "execution_count": 7,
      "outputs": [
        {
          "output_type": "stream",
          "name": "stdout",
          "text": [
            "Loaded 'reviews.csv' with shape (107018, 3)\n",
            "Sentiment distribution:\n",
            "Label\n",
            "positive    97227\n",
            "neutral      5071\n",
            "negative     4720\n",
            "Name: count, dtype: int64\n",
            "Label mapping: {'negative': np.int64(0), 'neutral': np.int64(1), 'positive': np.int64(2)}\n",
            "Shapes: (107018,) (107018,)\n"
          ]
        }
      ]
    },
    {
      "cell_type": "markdown",
      "source": [
        "# Train Test Split"
      ],
      "metadata": {
        "id": "wygDF2IuE1KS"
      }
    },
    {
      "cell_type": "code",
      "source": [
        "def prepare_splits(X, y, train_size=0.7, random_state=42):\n",
        "    \"\"\"\n",
        "    Splits X and y into train, validation, and test sets,\n",
        "    then fits and applies a LabelEncoder consistently across all.\n",
        "\n",
        "    Parameters\n",
        "    ----------\n",
        "    X : array-like or DataFrame\n",
        "        Input features.\n",
        "    y : array-like or Series\n",
        "        Target labels.\n",
        "    train_size : float, default=0.7\n",
        "        Proportion of data to use for training.\n",
        "    random_state : int, default=42\n",
        "        Random seed for reproducibility.\n",
        "\n",
        "    Returns\n",
        "    -------\n",
        "    X_train, X_val, X_test : arrays/DataFrames\n",
        "        Feature splits.\n",
        "    y_train_enc, y_val_enc, y_test_enc : arrays\n",
        "        Encoded label splits.\n",
        "    label_enc : LabelEncoder\n",
        "        Fitted LabelEncoder instance.\n",
        "    \"\"\"\n",
        "\n",
        "    # First split train vs temp (val+test)\n",
        "    X_train, X_temp, y_train, y_temp = train_test_split(\n",
        "        X, y,\n",
        "        train_size=train_size,\n",
        "        random_state=random_state,\n",
        "        stratify=y\n",
        "    )\n",
        "\n",
        "    # Split temp equally into val/test\n",
        "    X_val, X_test, y_val, y_test = train_test_split(\n",
        "        X_temp, y_temp,\n",
        "        test_size=0.5,\n",
        "        random_state=random_state,\n",
        "        stratify=y_temp\n",
        "    )\n",
        "\n",
        "    # Label encode consistently across all sets\n",
        "    label_enc = LabelEncoder()\n",
        "    label_enc.fit(list(y_train) + list(y_val) + list(y_test))\n",
        "\n",
        "    y_train_enc = label_enc.transform(y_train)\n",
        "    y_val_enc   = label_enc.transform(y_val)\n",
        "    y_test_enc  = label_enc.transform(y_test)\n",
        "\n",
        "    # Print summary\n",
        "    print(f\" Train: {len(X_train)/len(X):.1%}\")\n",
        "    print(f\" Val:   {len(X_val)/len(X):.1%}\")\n",
        "    print(f\" Test:  {len(X_test)/len(X):.1%}\")\n",
        "    print(\"Classes found:\", label_enc.classes_)\n",
        "\n",
        "    return X_train, X_val, X_test, y_train_enc, y_val_enc, y_test_enc, label_enc"
      ],
      "metadata": {
        "id": "rrCxbZK3Ee2U"
      },
      "execution_count": 8,
      "outputs": []
    },
    {
      "cell_type": "code",
      "source": [
        "X_train, X_val, X_test, y_train_enc, y_val_enc, y_test_enc, label_enc = prepare_splits(X, y)\n"
      ],
      "metadata": {
        "id": "z7nz6Dw_FwVa",
        "colab": {
          "base_uri": "https://localhost:8080/"
        },
        "outputId": "f662e526-4f1d-4394-ca1f-9bc798339930"
      },
      "execution_count": 9,
      "outputs": [
        {
          "output_type": "stream",
          "name": "stdout",
          "text": [
            " Train: 70.0%\n",
            " Val:   15.0%\n",
            " Test:  15.0%\n",
            "Classes found: [0 1 2]\n"
          ]
        }
      ]
    },
    {
      "cell_type": "markdown",
      "source": [
        "# Base Model Or Embedding and CONFIG"
      ],
      "metadata": {
        "id": "u8tLWB4HHiLn"
      }
    },
    {
      "cell_type": "code",
      "source": [
        "DEVICE = torch.device(\"cuda\" if torch.cuda.is_available() else \"cpu\")"
      ],
      "metadata": {
        "id": "ca9Mq1peHg3-"
      },
      "execution_count": 10,
      "outputs": []
    },
    {
      "cell_type": "code",
      "source": [
        "CONFIG = {\n",
        "    # ----------------- model setup -----------------\n",
        "    \"model_name\": \"bert-base-uncased\",   # swap for roberta-base etc.\n",
        "    \"num_classes\": 3,\n",
        "    \"hidden_size\": 320,\n",
        "    \"dropout\": 0.5,\n",
        "    \"activation\": \"relu\",\n",
        "    \"fine_tune_base\": True,\n",
        "\n",
        "    # ----------------- data setup ------------------\n",
        "    \"max_len\": 128,\n",
        "    \"batch_size\": 16,\n",
        "\n",
        "    # ----------------- training setup --------------\n",
        "    \"epochs\": 3,\n",
        "    \"learning_rate\": 2e-5,\n",
        "    \"optimizer\": \"adamw\",                 # 'adam', 'sgd', etc.\n",
        "    \"loss_fn\": \"crossentropy\",            # 'crossentropy', 'bce', 'mse'\n",
        "    \"device\": torch.device(\"cuda\" if torch.cuda.is_available() else \"cpu\"),\n",
        "}\n"
      ],
      "metadata": {
        "id": "84h5RmqWITW2"
      },
      "execution_count": 11,
      "outputs": []
    },
    {
      "cell_type": "code",
      "source": [
        "def load_base_model(model_name):\n",
        "    tokenizer = AutoTokenizer.from_pretrained(model_name)\n",
        "    base_model = AutoModel.from_pretrained(model_name)\n",
        "    print(f\"Loaded base model: {model_name}\")\n",
        "    return tokenizer, base_model"
      ],
      "metadata": {
        "id": "qB49gGqDIjEC"
      },
      "execution_count": 12,
      "outputs": []
    },
    {
      "cell_type": "markdown",
      "source": [
        "# Create Dataset Class"
      ],
      "metadata": {
        "id": "J7v9iSEoKL-e"
      }
    },
    {
      "cell_type": "code",
      "source": [
        "class TextDataset(Dataset):\n",
        "    def __init__(self, texts, labels, tokenizer, max_len=128):\n",
        "        self.texts = texts\n",
        "        self.labels = labels\n",
        "        self.tokenizer = tokenizer\n",
        "        self.max_len = max_len\n",
        "\n",
        "    def __len__(self):\n",
        "        return len(self.texts)\n",
        "\n",
        "    def __getitem__(self, idx):\n",
        "        enc = self.tokenizer(\n",
        "            self.texts[idx],\n",
        "            truncation=True,\n",
        "            padding=\"max_length\",\n",
        "            max_length=self.max_len,\n",
        "            return_tensors=\"pt\"\n",
        "        )\n",
        "        return {\n",
        "            \"input_ids\": enc[\"input_ids\"].squeeze(0),\n",
        "            \"attention_mask\": enc[\"attention_mask\"].squeeze(0),\n",
        "            \"labels\": torch.tensor(self.labels[idx], dtype=torch.long)\n",
        "        }"
      ],
      "metadata": {
        "id": "seCiah5SKNlf"
      },
      "execution_count": 13,
      "outputs": []
    },
    {
      "cell_type": "markdown",
      "source": [
        "# Create Modular Models"
      ],
      "metadata": {
        "id": "h4QyVDw4KROC"
      }
    },
    {
      "cell_type": "code",
      "source": [
        "class TransformerLSTMClassifier(nn.Module):\n",
        "    def __init__(self, base_model, num_classes=3, input_size=768,\n",
        "                 hidden_size=320, dropout=0.5, activation=\"relu\",\n",
        "                 fine_tune_base=True):\n",
        "        super().__init__()\n",
        "\n",
        "        self.base_model = base_model\n",
        "        self.num_classes = num_classes\n",
        "        self.input_size = input_size\n",
        "\n",
        "        # Optionally freeze transformer layers\n",
        "        for param in self.base_model.parameters():\n",
        "            param.requires_grad = fine_tune_base\n",
        "\n",
        "        # LSTM layer\n",
        "        self.lstm = nn.LSTM(\n",
        "            input_size=input_size,\n",
        "            hidden_size=hidden_size,\n",
        "            num_layers=1,\n",
        "            batch_first=True\n",
        "        )\n",
        "\n",
        "        # Dynamic activation lookup\n",
        "        activations = {\n",
        "            \"relu\": nn.ReLU(),\n",
        "            \"tanh\": nn.Tanh(),\n",
        "            \"sigmoid\": nn.Sigmoid(),\n",
        "            \"gelu\": nn.GELU(),\n",
        "            \"leakyrelu\": nn.LeakyReLU()\n",
        "        }\n",
        "        act = activations.get(activation.lower(), nn.ReLU())\n",
        "\n",
        "        # Classification head\n",
        "        self.classifier = nn.Sequential(\n",
        "            nn.Dropout(dropout),\n",
        "            nn.Linear(hidden_size, 80),\n",
        "            act,\n",
        "            nn.Linear(80, 20),\n",
        "            act,\n",
        "            nn.Linear(20, num_classes)\n",
        "        )\n",
        "\n",
        "    def forward(self, inputs):\n",
        "        \"\"\"\n",
        "        inputs: dict from tokenizer (input_ids, attention_mask)\n",
        "        returns: raw logits (not softmaxed)\n",
        "        \"\"\"\n",
        "        transformer_out = self.base_model(**inputs)\n",
        "        token_embeddings = transformer_out.last_hidden_state  # [batch, seq_len, hidden]\n",
        "        lstm_out, _ = self.lstm(token_embeddings)\n",
        "        last_hidden = lstm_out[:, -1, :]  # final timestep\n",
        "        logits = self.classifier(last_hidden)\n",
        "        return logits"
      ],
      "metadata": {
        "id": "xQ6Q9C5rKVpO"
      },
      "execution_count": 14,
      "outputs": []
    },
    {
      "cell_type": "markdown",
      "source": [
        "# Create Optimizer and Loss function Helpers"
      ],
      "metadata": {
        "id": "nmogoZseMWhS"
      }
    },
    {
      "cell_type": "code",
      "source": [
        "def build_optimizer(model, optimizer_name, lr):\n",
        "    optimizers = {\n",
        "        \"adamw\": torch.optim.AdamW,\n",
        "        \"adam\": torch.optim.Adam,\n",
        "        \"sgd\": torch.optim.SGD\n",
        "    }\n",
        "    if optimizer_name.lower() not in optimizers:\n",
        "        raise ValueError(f\"Unsupported optimizer: {optimizer_name}\")\n",
        "    if optimizer_name.lower() == \"sgd\":\n",
        "        return optimizers[optimizer_name.lower()](model.parameters(), lr=lr, momentum=0.9)\n",
        "    return optimizers[optimizer_name.lower()](model.parameters(), lr=lr)\n",
        "\n",
        "def build_loss(loss_name, class_weights=None):\n",
        "    loss_name = loss_name.lower()\n",
        "\n",
        "    if loss_name == \"crossentropy\":\n",
        "        if class_weights is not None:\n",
        "            return nn.CrossEntropyLoss(weight=class_weights)\n",
        "        return nn.CrossEntropyLoss()\n",
        "\n",
        "    elif loss_name == \"bce\":\n",
        "        return nn.BCEWithLogitsLoss()\n",
        "\n",
        "    elif loss_name == \"mse\":\n",
        "        return nn.MSELoss()\n",
        "\n",
        "    else:\n",
        "        raise ValueError(f\"Unsupported loss: {loss_name}\")\n"
      ],
      "metadata": {
        "id": "zj-tg5YiMi5T"
      },
      "execution_count": 15,
      "outputs": []
    },
    {
      "cell_type": "code",
      "source": [
        "def compute_class_weights(y_train, device):\n",
        "    \"\"\"\n",
        "    Compute balanced class weights for CrossEntropyLoss.\n",
        "\n",
        "    Args:\n",
        "        y_train: array-like of encoded class labels (e.g., [0, 1, 2, 2, 0, ...])\n",
        "        device: torch.device to move the tensor to (e.g., 'cuda' or 'cpu')\n",
        "\n",
        "    Returns:\n",
        "        class_weights: torch.Tensor of shape [num_classes]\n",
        "        weights_dict:  dict mapping class_id -> weight (for logging)\n",
        "    \"\"\"\n",
        "    y_train = np.array(y_train)\n",
        "    classes = np.unique(y_train)\n",
        "\n",
        "    weights = compute_class_weight(\n",
        "        class_weight='balanced',\n",
        "        classes=classes,\n",
        "        y=y_train\n",
        "    )\n",
        "\n",
        "    class_weights = torch.tensor(weights, dtype=torch.float).to(device)\n",
        "    weights_dict = dict(zip(classes.tolist(), weights.tolist()))\n",
        "\n",
        "    print(\"Computed class weights:\", weights_dict)\n",
        "    return class_weights, weights_dict"
      ],
      "metadata": {
        "id": "a2WEaTzYo99j"
      },
      "execution_count": 16,
      "outputs": []
    },
    {
      "cell_type": "markdown",
      "source": [
        "# Create Data Loader Class"
      ],
      "metadata": {
        "id": "Ag7PZMPaM4PK"
      }
    },
    {
      "cell_type": "code",
      "source": [
        "def create_dataloaders(X_train, y_train, X_val, y_val, X_test, y_test,\n",
        "                       tokenizer, max_len, batch_size):\n",
        "    def make_loader(X, y, shuffle, balance=False):\n",
        "        dataset = TextDataset(\n",
        "            texts=X.tolist() if hasattr(X, \"tolist\") else list(X),\n",
        "            labels=y.tolist() if hasattr(y, \"tolist\") else list(y),\n",
        "            tokenizer=tokenizer,\n",
        "            max_len=max_len\n",
        "        )\n",
        "\n",
        "        if balance:\n",
        "            labels = np.array(y)\n",
        "            class_counts = np.bincount(labels)\n",
        "            class_weights = 1.0 / np.maximum(class_counts, 1)\n",
        "            sample_weights = class_weights[labels]\n",
        "            sampler = WeightedRandomSampler(\n",
        "                weights=torch.DoubleTensor(sample_weights),\n",
        "                num_samples=len(sample_weights),\n",
        "                replacement=True\n",
        "            )\n",
        "            return DataLoader(dataset, batch_size=batch_size, sampler=sampler)\n",
        "        else:\n",
        "            return DataLoader(dataset, batch_size=batch_size, shuffle=shuffle)\n",
        "\n",
        "    train_loader = make_loader(X_train, y_train, shuffle=False, balance=True)   # For training\n",
        "    train_eval_loader = make_loader(X_train, y_train, shuffle=False, balance=False)  # For eval\n",
        "    val_loader   = make_loader(X_val, y_val, shuffle=False)\n",
        "    test_loader  = make_loader(X_test, y_test, shuffle=False)\n",
        "\n",
        "    print(f\"Dataloaders ready — Train: {len(train_loader.dataset)}, \"\n",
        "          f\"Val: {len(val_loader.dataset)}, Test: {len(test_loader.dataset)}\")\n",
        "    return train_loader, train_eval_loader, val_loader, test_loader\n"
      ],
      "metadata": {
        "id": "gU6wRY8LM67b"
      },
      "execution_count": 17,
      "outputs": []
    },
    {
      "cell_type": "markdown",
      "source": [
        "# Define Training Loop"
      ],
      "metadata": {
        "id": "U-nkZgC_O8OX"
      }
    },
    {
      "cell_type": "code",
      "source": [
        "def train_and_evaluate(model, train_loader, val_loader, optimizer, criterion, device, model_name, model_dir, epochs=3):\n",
        "    \"\"\"\n",
        "    Train and evaluate model, log accuracy/loss, and save plots.\n",
        "    \"\"\"\n",
        "    train_losses, val_losses = [], []\n",
        "    train_accs, val_accs = [], []\n",
        "\n",
        "    model.to(device)\n",
        "\n",
        "    for epoch in range(1, epochs + 1):\n",
        "        # ---------------- TRAIN ----------------\n",
        "        model.train()\n",
        "        running_loss, correct, total = 0.0, 0, 0\n",
        "\n",
        "        for batch in tqdm(train_loader, desc=f\"Epoch {epoch}/{epochs} [Train]\", leave=False):\n",
        "            inputs = {\n",
        "                \"input_ids\": batch[\"input_ids\"].to(device),\n",
        "                \"attention_mask\": batch[\"attention_mask\"].to(device)\n",
        "            }\n",
        "            labels = batch[\"labels\"].to(device)\n",
        "\n",
        "            optimizer.zero_grad()\n",
        "            outputs = model(inputs)\n",
        "            loss = criterion(outputs, labels)\n",
        "            loss.backward()\n",
        "            optimizer.step()\n",
        "\n",
        "            running_loss += loss.item() * labels.size(0)\n",
        "            preds = outputs.argmax(dim=1)\n",
        "            correct += (preds == labels).sum().item()\n",
        "            total += labels.size(0)\n",
        "\n",
        "        train_loss = running_loss / total\n",
        "        train_acc = correct / total\n",
        "        train_losses.append(train_loss)\n",
        "        train_accs.append(train_acc)\n",
        "\n",
        "        # ---------------- VALIDATE ----------------\n",
        "        model.eval()\n",
        "        val_running_loss, val_correct, val_total = 0.0, 0, 0\n",
        "\n",
        "        with torch.no_grad():\n",
        "            for batch in tqdm(val_loader, desc=f\"Epoch {epoch}/{epochs} [Val]\", leave=False):\n",
        "                inputs = {\n",
        "                    \"input_ids\": batch[\"input_ids\"].to(device),\n",
        "                    \"attention_mask\": batch[\"attention_mask\"].to(device)\n",
        "                }\n",
        "                labels = batch[\"labels\"].to(device)\n",
        "\n",
        "                outputs = model(inputs)\n",
        "                loss = criterion(outputs, labels)\n",
        "\n",
        "                val_running_loss += loss.item() * labels.size(0)\n",
        "                preds = outputs.argmax(dim=1)\n",
        "                val_correct += (preds == labels).sum().item()\n",
        "                val_total += labels.size(0)\n",
        "\n",
        "        val_loss = val_running_loss / val_total\n",
        "        val_acc = val_correct / val_total\n",
        "        val_losses.append(val_loss)\n",
        "        val_accs.append(val_acc)\n",
        "\n",
        "        # Print summary\n",
        "        print(f\"Epoch {epoch:02d}/{epochs} | \"\n",
        "              f\"Train Loss: {train_loss:.4f}, Val Loss: {val_loss:.4f} | \"\n",
        "              f\"Train Acc: {train_acc*100:.2f}%, Val Acc: {val_acc*100:.2f}%\")\n",
        "\n",
        "    # ---------------- PLOTS ----------------\n",
        "    os.makedirs(model_dir, exist_ok=True)\n",
        "\n",
        "    # Loss plot\n",
        "    plt.figure(figsize=(8,5))\n",
        "    plt.plot(range(1, epochs + 1), train_losses, label=\"Train Loss\", marker='o')\n",
        "    plt.plot(range(1, epochs + 1), val_losses, label=\"Val Loss\", marker='o')\n",
        "    plt.title(f\"{model_name} Training Loss\")\n",
        "    plt.xlabel(\"Epoch\")\n",
        "    plt.ylabel(\"Loss\")\n",
        "    plt.legend()\n",
        "    plt.grid(True)\n",
        "    loss_path = os.path.join(model_dir, f\"{model_name}_training_loss.png\")\n",
        "    plt.savefig(loss_path, bbox_inches=\"tight\")\n",
        "    plt.close()\n",
        "\n",
        "    # Accuracy plot\n",
        "    plt.figure(figsize=(8,5))\n",
        "    plt.plot(range(1, epochs + 1), train_accs, label=\"Train Accuracy\", marker='o')\n",
        "    plt.plot(range(1, epochs + 1), val_accs, label=\"Val Accuracy\", marker='o')\n",
        "    plt.title(f\"{model_name} Training Accuracy\")\n",
        "    plt.xlabel(\"Epoch\")\n",
        "    plt.ylabel(\"Accuracy\")\n",
        "    plt.legend()\n",
        "    plt.grid(True)\n",
        "    acc_path = os.path.join(model_dir, f\"{model_name}_training_accuracy.png\")\n",
        "    plt.savefig(acc_path, bbox_inches=\"tight\")\n",
        "    plt.close()\n",
        "\n",
        "    print(f\"Training complete — plots saved to:\\n{loss_path}\\n{acc_path}\")\n",
        "\n",
        "    return {\n",
        "        \"train_losses\": train_losses,\n",
        "        \"val_losses\": val_losses,\n",
        "        \"train_accs\": train_accs,\n",
        "        \"val_accs\": val_accs\n",
        "    }"
      ],
      "metadata": {
        "id": "E0Zz1tbTO-4U"
      },
      "execution_count": 18,
      "outputs": []
    },
    {
      "cell_type": "markdown",
      "source": [
        "# Define Model Graph Function"
      ],
      "metadata": {
        "id": "fnZZrpmjQfEk"
      }
    },
    {
      "cell_type": "code",
      "source": [
        "def save_model_graph(model, dataloader, model_name, model_dir, device, show_backbone=True):\n",
        "    model.eval()\n",
        "    batch = next(iter(dataloader))\n",
        "    inputs = {\n",
        "        \"input_ids\": batch[\"input_ids\"].to(device),\n",
        "        \"attention_mask\": batch[\"attention_mask\"].to(device)\n",
        "    }\n",
        "\n",
        "    if not show_backbone:\n",
        "        class DummyBase(nn.Module):\n",
        "            def __init__(self, hidden_size=768):\n",
        "                super().__init__()\n",
        "                self.config = type('obj', (object,), {\"hidden_size\": hidden_size})\n",
        "\n",
        "            def forward(self, **kwargs):\n",
        "                batch_size = kwargs[\"input_ids\"].shape[0]\n",
        "                seq_len = kwargs[\"input_ids\"].shape[1]\n",
        "                hidden_size = self.config.hidden_size\n",
        "                return type('obj', (object,), {\n",
        "                    \"last_hidden_state\": torch.randn(\n",
        "                        batch_size, seq_len, hidden_size,\n",
        "                        device=kwargs[\"input_ids\"].device\n",
        "                    )\n",
        "                })\n",
        "\n",
        "        model.base_model = DummyBase()\n",
        "\n",
        "    class TorchViewWrapper(nn.Module):\n",
        "        def __init__(self, model):\n",
        "            super().__init__()\n",
        "            self.model = model\n",
        "        def forward(self, inputs):\n",
        "            return self.model(inputs)\n",
        "\n",
        "    wrapped_model = TorchViewWrapper(model).to(device)\n",
        "    wrapped_model.eval()\n",
        "\n",
        "    graph = draw_graph(\n",
        "        wrapped_model,\n",
        "        input_data=(inputs,),\n",
        "        expand_nested=True,\n",
        "        depth=4,\n",
        "        device=device,\n",
        "        save_graph=True,\n",
        "        directory=model_dir,\n",
        "        filename=f\"{model_name.replace('/', '_')}_graph\"\n",
        "    )\n",
        "\n",
        "    print(f\"✅ Saved model graph to: {model_dir}/{model_name.replace('/', '_')}_graph.png\")\n",
        "    return graph\n"
      ],
      "metadata": {
        "id": "DGTueAqlQkbV"
      },
      "execution_count": 19,
      "outputs": []
    },
    {
      "cell_type": "markdown",
      "source": [
        "# Define Evaluation Loop"
      ],
      "metadata": {
        "id": "51kRq4ZdRAFR"
      }
    },
    {
      "cell_type": "code",
      "source": [
        "def evaluate_model(\n",
        "    model,\n",
        "    test_loader,\n",
        "    label_encoder,\n",
        "    device,\n",
        "    model_name,\n",
        "    model_dir,\n",
        "    num_classes=3,\n",
        "    train_acc_final=None\n",
        "):\n",
        "    \"\"\"\n",
        "    Evaluate a trained model on the test set and visualize key metrics.\n",
        "\n",
        "    Saves:\n",
        "        - classification_report.json\n",
        "        - roc_auc.png\n",
        "        - confusion_matrix.png\n",
        "        - accuracy_barplot.png (if train_acc_final provided)\n",
        "    \"\"\"\n",
        "    os.makedirs(model_dir, exist_ok=True)\n",
        "    model.to(device)\n",
        "    model.eval()\n",
        "\n",
        "    all_preds, all_probs, all_labels = [], [], []\n",
        "    with torch.no_grad():\n",
        "        for batch in tqdm(test_loader, desc=f\"Evaluating {model_name}\", leave=False):\n",
        "            inputs = {\n",
        "                \"input_ids\": batch[\"input_ids\"].to(device),\n",
        "                \"attention_mask\": batch[\"attention_mask\"].to(device)\n",
        "            }\n",
        "            labels = batch[\"labels\"].to(device)\n",
        "            outputs = model(inputs)\n",
        "            probs = torch.softmax(outputs, dim=1)\n",
        "            preds = torch.argmax(probs, dim=1)\n",
        "\n",
        "            all_preds.extend(preds.cpu().numpy())\n",
        "            all_probs.extend(probs.cpu().numpy())\n",
        "            all_labels.extend(labels.cpu().numpy())\n",
        "\n",
        "    preds = np.array(all_preds)\n",
        "    probs = np.array(all_probs)\n",
        "    labels = np.array(all_labels)\n",
        "\n",
        "    # Decode to class names\n",
        "    y_true = label_encoder.inverse_transform(labels)\n",
        "    y_pred = label_encoder.inverse_transform(preds)\n",
        "    class_names = label_encoder.classes_\n",
        "\n",
        "    # ---------------- Classification report ----------------\n",
        "    report = classification_report(\n",
        "        y_true, y_pred, target_names=class_names,\n",
        "        output_dict=True, zero_division=0\n",
        "    )\n",
        "    report = {str(k): v for k, v in report.items()}\n",
        "    report_path = os.path.join(model_dir, f\"{model_name}_classification_report.json\")\n",
        "    with open(report_path, \"w\") as f:\n",
        "        json.dump(report, f, indent=4)\n",
        "    print(f\"Classification report saved → {report_path}\")\n",
        "\n",
        "    # ---------------- ROC-AUC ----------------\n",
        "    y_true_bin = label_binarize(labels, classes=np.arange(num_classes))\n",
        "    fpr, tpr, roc_auc = {}, {}, {}\n",
        "\n",
        "    for i in range(num_classes):\n",
        "        # Some classes might not appear in test set → handle safely\n",
        "        if y_true_bin[:, i].sum() == 0:\n",
        "            fpr[i], tpr[i], roc_auc[i] = [0], [0], 0.0\n",
        "            continue\n",
        "        fpr[i], tpr[i], _ = roc_curve(y_true_bin[:, i], probs[:, i])\n",
        "        roc_auc[i] = auc(fpr[i], tpr[i])\n",
        "\n",
        "    # Macro AUC (multi-class One-vs-Rest)\n",
        "    macro_auc = roc_auc_score(\n",
        "        y_true_bin, probs, average=\"macro\", multi_class=\"ovr\"\n",
        "    )\n",
        "\n",
        "    plt.figure(figsize=(7, 6))\n",
        "    for i, name in enumerate(class_names):\n",
        "        plt.plot(fpr[i], tpr[i], lw=2, label=f\"{name} (AUC={roc_auc[i]:.3f})\")\n",
        "    plt.plot([0, 1], [0, 1], \"k--\", lw=1)\n",
        "    plt.title(f\"{model_name} ROC Curves (Macro AUC={macro_auc:.3f})\")\n",
        "    plt.xlabel(\"False Positive Rate\")\n",
        "    plt.ylabel(\"True Positive Rate\")\n",
        "    plt.legend(loc=\"lower right\")\n",
        "    plt.grid(True)\n",
        "\n",
        "    roc_path = os.path.join(model_dir, f\"{model_name}_roc_auc.png\")\n",
        "    plt.savefig(roc_path, bbox_inches=\"tight\")\n",
        "    plt.close()\n",
        "    print(f\"ROC-AUC plot saved → {roc_path}\")\n",
        "\n"
      ],
      "metadata": {
        "id": "xgK_Mj_eRCbp"
      },
      "execution_count": 22,
      "outputs": []
    },
    {
      "cell_type": "markdown",
      "source": [
        "# USAGE"
      ],
      "metadata": {
        "id": "M8HQuZUfLOCV"
      }
    },
    {
      "cell_type": "code",
      "source": [
        "MODEL_NAME = \"bert_lstm\"\n",
        "MODEL_DIR = os.path.join(OUTPUT_DIR, MODEL_NAME)\n",
        "os.makedirs(MODEL_DIR, exist_ok=True)\n",
        "\n",
        "# ---------------- CONFIG ----------------\n",
        "CONFIG['model_name']     = \"bert-base-uncased\"\n",
        "CONFIG['activation']     = \"sigmoid\"\n",
        "CONFIG['hidden_size']    = 320\n",
        "CONFIG['dropout']        = 0.5\n",
        "CONFIG['fine_tune_base'] = True\n",
        "CONFIG['num_classes']    = 3\n",
        "\n",
        "CONFIG['max_len']        = 128\n",
        "CONFIG['batch_size']     = 16\n",
        "\n",
        "CONFIG['epochs']         = 2\n",
        "CONFIG['learning_rate']  = 2e-5\n",
        "CONFIG['optimizer']      = \"adamw\"\n",
        "CONFIG['loss_fn']        = \"crossentropy\"\n",
        "\n",
        "CONFIG['device']         = torch.device(\"cuda\" if torch.cuda.is_available() else \"cpu\")\n",
        "\n",
        "# ---------------- Load tokenizer + transformer ----------------\n",
        "tokenizer, base_model = load_base_model(CONFIG[\"model_name\"])\n",
        "\n",
        "# ---------------- Initialize model ----------------\n",
        "model = TransformerLSTMClassifier(\n",
        "    base_model     = base_model,\n",
        "    num_classes    = CONFIG['num_classes'],\n",
        "    input_size     = base_model.config.hidden_size,\n",
        "    hidden_size    = CONFIG['hidden_size'],\n",
        "    dropout        = CONFIG['dropout'],\n",
        "    activation     = CONFIG['activation'],\n",
        "    fine_tune_base = CONFIG['fine_tune_base']\n",
        ").to(CONFIG['device'])\n",
        "\n",
        "# ---------------- Compute Class Weights ----------------\n",
        "class_weights, weights_dict = compute_class_weights(y_train_enc, CONFIG[\"device\"])\n",
        "print(\"Computed class weights:\", weights_dict)\n",
        "\n",
        "# --- Visualize class distribution ---\n",
        "y_train_np = np.array(y_train_enc)\n",
        "unique, counts = np.unique(y_train_np, return_counts=True)\n",
        "\n",
        "plt.figure(figsize=(6, 4))\n",
        "plt.bar(unique, counts, color=[\"#f44336\", \"#ff9800\", \"#4caf50\"])\n",
        "plt.xticks(unique, [f\"Class {c}\" for c in unique])\n",
        "plt.title(\"Training Label Distribution\")\n",
        "plt.xlabel(\"Class Label\")\n",
        "plt.ylabel(\"Sample Count\")\n",
        "\n",
        "for i, count in enumerate(counts):\n",
        "    plt.text(i, count + max(counts)*0.01, str(count), ha=\"center\", fontsize=10)\n",
        "\n",
        "plt.tight_layout()\n",
        "plt.show()\n",
        "\n",
        "# ---------------- Optimizer and loss ----------------\n",
        "optimizer = build_optimizer(model, CONFIG[\"optimizer\"], CONFIG[\"learning_rate\"])\n",
        "criterion = build_loss(CONFIG[\"loss_fn\"])\n",
        "\n",
        "# ---------------- Dataloaders ----------------\n",
        "train_dataloader, train_eval_dataloader, val_dataloader, test_dataloader = create_dataloaders(\n",
        "    X_train, y_train_enc,\n",
        "    X_val,   y_val_enc,\n",
        "    X_test,  y_test_enc,\n",
        "    tokenizer,\n",
        "    CONFIG[\"max_len\"],\n",
        "    CONFIG[\"batch_size\"]\n",
        ")\n",
        "\n",
        "# ---------------- Training ----------------\n",
        "history = train_and_evaluate(\n",
        "    model=model,\n",
        "    train_loader=train_dataloader,\n",
        "    val_loader=val_dataloader,\n",
        "    optimizer=optimizer,\n",
        "    criterion=criterion,\n",
        "    device=CONFIG[\"device\"],\n",
        "    model_name=MODEL_NAME,  # safe filename\n",
        "    model_dir=MODEL_DIR,\n",
        "    epochs=CONFIG[\"epochs\"]\n",
        ")\n",
        "\n",
        "# ---------------- Model Graph ----------------\n",
        "save_model_graph(\n",
        "    model,\n",
        "    train_dataloader,\n",
        "    CONFIG[\"model_name\"],\n",
        "    MODEL_DIR,\n",
        "    CONFIG[\"device\"],\n",
        "    show_backbone=True\n",
        ")\n",
        "\n",
        "# ---------------- Evaluation ----------------\n",
        "results = evaluate_model(\n",
        "    model=model,\n",
        "    test_loader=test_dataloader,\n",
        "    label_encoder=label_enc,\n",
        "    device=CONFIG[\"device\"],\n",
        "    model_name=MODEL_NAME,\n",
        "    model_dir=MODEL_DIR,\n",
        "    num_classes=CONFIG[\"num_classes\"],\n",
        "    train_acc_final=history[\"train_accs\"][-1]\n",
        ")\n",
        "\n",
        "\n"
      ],
      "metadata": {
        "id": "Koozh2YyLAzj",
        "colab": {
          "base_uri": "https://localhost:8080/",
          "height": 774
        },
        "outputId": "be6b32ed-b800-47fa-f176-acefb4260446"
      },
      "execution_count": 23,
      "outputs": [
        {
          "output_type": "stream",
          "name": "stdout",
          "text": [
            "Loaded base model: bert-base-uncased\n",
            "Computed class weights: {0: 7.557707828894269, 1: 7.0339906103286385, 2: 0.36690273981995747}\n",
            "Computed class weights: {0: 7.557707828894269, 1: 7.0339906103286385, 2: 0.36690273981995747}\n"
          ]
        },
        {
          "output_type": "display_data",
          "data": {
            "text/plain": [
              "<Figure size 600x400 with 1 Axes>"
            ],
            "image/png": "[encoded data removed]"
          },
          "metadata": {}
        },
        {
          "output_type": "stream",
          "name": "stdout",
          "text": [
            "Dataloaders ready — Train: 74912, Val: 16053, Test: 16053\n"
          ]
        },
        {
          "output_type": "stream",
          "name": "stderr",
          "text": []
        },
        {
          "output_type": "stream",
          "name": "stdout",
          "text": [
            "Epoch 01/2 | Train Loss: 0.8051, Val Loss: 0.6214 | Train Acc: 79.89%, Val Acc: 89.63%\n"
          ]
        },
        {
          "output_type": "stream",
          "name": "stderr",
          "text": []
        },
        {
          "output_type": "stream",
          "name": "stdout",
          "text": [
            "Epoch 02/2 | Train Loss: 0.4843, Val Loss: 0.4972 | Train Acc: 89.06%, Val Acc: 85.59%\n",
            "Training complete — plots saved to:\n",
            "/content/drive/MyDrive/ITRPA_PROJ/outputs_colab/bert_lstm/bert_lstm_training_loss.png\n",
            "/content/drive/MyDrive/ITRPA_PROJ/outputs_colab/bert_lstm/bert_lstm_training_accuracy.png\n",
            "✅ Saved model graph to: /content/drive/MyDrive/ITRPA_PROJ/outputs_colab/bert_lstm/bert-base-uncased_graph.png\n"
          ]
        },
        {
          "output_type": "error",
          "ename": "TypeError",
          "evalue": "evaluate_model() got an unexpected keyword argument 'train_loader'",
          "traceback": [
            "\u001b[0;31m---------------------------------------------------------------------------\u001b[0m",
            "\u001b[0;31mTypeError\u001b[0m                                 Traceback (most recent call last)",
            "\u001b[0;32m/tmp/ipython-input-1138867009.py\u001b[0m in \u001b[0;36m<cell line: 0>\u001b[0;34m()\u001b[0m\n\u001b[1;32m     94\u001b[0m \u001b[0;34m\u001b[0m\u001b[0m\n\u001b[1;32m     95\u001b[0m \u001b[0;31m# ---------------- Evaluation ----------------\u001b[0m\u001b[0;34m\u001b[0m\u001b[0;34m\u001b[0m\u001b[0m\n\u001b[0;32m---> 96\u001b[0;31m results = evaluate_model(\n\u001b[0m\u001b[1;32m     97\u001b[0m     \u001b[0mmodel\u001b[0m\u001b[0;34m=\u001b[0m\u001b[0mmodel\u001b[0m\u001b[0;34m,\u001b[0m\u001b[0;34m\u001b[0m\u001b[0;34m\u001b[0m\u001b[0m\n\u001b[1;32m     98\u001b[0m     \u001b[0mtrain_loader\u001b[0m\u001b[0;34m=\u001b[0m\u001b[0mtrain_eval_dataloader\u001b[0m\u001b[0;34m,\u001b[0m  \u001b[0;31m# unbalanced version\u001b[0m\u001b[0;34m\u001b[0m\u001b[0;34m\u001b[0m\u001b[0m\n",
            "\u001b[0;31mTypeError\u001b[0m: evaluate_model() got an unexpected keyword argument 'train_loader'"
          ]
        }
      ]
    }
  ]
}