{
 "cells": [
  {
   "cell_type": "markdown",
   "id": "b2d8e304",
   "metadata": {},
   "source": [
    "# Imports"
   ]
  },
  {
   "cell_type": "code",
   "execution_count": 13,
   "id": "26d90edd",
   "metadata": {},
   "outputs": [],
   "source": [
    "import pandas as pd\n",
    "import numpy as np\n",
    "import re\n",
    "import string\n",
    "import nltk\n",
    "from nltk.corpus import stopwords\n",
    "from nltk.stem import WordNetLemmatizer\n",
    "\n",
    "from sklearn.preprocessing import LabelEncoder\n",
    "from sklearn.feature_extraction.text import TfidfVectorizer\n",
    "from langdetect import detect, DetectorFactory"
   ]
  },
  {
   "cell_type": "code",
   "execution_count": null,
   "id": "bee4904d",
   "metadata": {},
   "outputs": [
    {
     "name": "stderr",
     "output_type": "stream",
     "text": [
      "[nltk_data] Downloading package stopwords to\n",
      "[nltk_data]     C:\\Users\\alex7\\AppData\\Roaming\\nltk_data...\n",
      "[nltk_data]   Package stopwords is already up-to-date!\n",
      "[nltk_data] Downloading package wordnet to\n",
      "[nltk_data]     C:\\Users\\alex7\\AppData\\Roaming\\nltk_data...\n",
      "[nltk_data]   Package wordnet is already up-to-date!\n",
      "[nltk_data] Downloading package omw-1.4 to\n",
      "[nltk_data]     C:\\Users\\alex7\\AppData\\Roaming\\nltk_data...\n",
      "[nltk_data]   Package omw-1.4 is already up-to-date!\n"
     ]
    },
    {
     "data": {
      "text/plain": [
       "True"
      ]
     },
     "execution_count": 2,
     "metadata": {},
     "output_type": "execute_result"
    }
   ],
   "source": [
    "# Download once\n",
    "# nltk.download('stopwords')\n",
    "# nltk.download('wordnet')\n",
    "# nltk.download('omw-1.4')"
   ]
  },
  {
   "cell_type": "markdown",
   "id": "f7ea1234",
   "metadata": {},
   "source": [
    "# Load Data"
   ]
  },
  {
   "cell_type": "code",
   "execution_count": 3,
   "id": "8fa34705",
   "metadata": {},
   "outputs": [],
   "source": [
    "df = pd.read_csv(\"./data/reviews.csv\")\n",
    "df.dropna(subset=['Review', 'Label'], inplace=True)\n",
    "df['Review'] = df['Review'].astype(str)"
   ]
  },
  {
   "cell_type": "markdown",
   "id": "5fc303f3",
   "metadata": {},
   "source": [
    "# Preprocess Text"
   ]
  },
  {
   "cell_type": "code",
   "execution_count": null,
   "id": "4826d540",
   "metadata": {},
   "outputs": [],
   "source": [
    "def clean_text(text):\n",
    "    # clean out tags urls and only alphabet + no multiple spaces\n",
    "    text = str(text).lower()\n",
    "    text = re.sub(r\"http\\S+|www\\S+|https\\S+\", '', text)\n",
    "    text = re.sub(r\"@\\w+|#\\w+\", '', text)\n",
    "    text = re.sub(r\"[^a-zA-Z\\s]\", ' ', text)\n",
    "    text = re.sub(r'\\s+', ' ', text).strip()\n",
    "    # Remove stop words and lemmatize\n",
    "    stop_words = set(stopwords.words('english'))\n",
    "    lemmatizer = WordNetLemmatizer()\n",
    "    tokens = [lemmatizer.lemmatize(w) for w in text.split() if w not in stop_words]\n",
    "    return ' '.join(tokens)"
   ]
  },
  {
   "cell_type": "code",
   "execution_count": 5,
   "id": "72a0ad14",
   "metadata": {},
   "outputs": [
    {
     "data": {
      "application/vnd.microsoft.datawrangler.viewer.v0+json": {
       "columns": [
        {
         "name": "index",
         "rawType": "int64",
         "type": "integer"
        },
        {
         "name": "Id",
         "rawType": "int64",
         "type": "integer"
        },
        {
         "name": "Review",
         "rawType": "object",
         "type": "string"
        },
        {
         "name": "Label",
         "rawType": "int64",
         "type": "integer"
        },
        {
         "name": "processed",
         "rawType": "object",
         "type": "string"
        }
       ],
       "ref": "8a654df8-e559-4ddb-80e1-0e7608638697",
       "rows": [
        [
         "0",
         "0",
         "good and interesting",
         "5",
         "good interesting"
        ],
        [
         "1",
         "1",
         "This class is very helpful to me. Currently, I'm still learning this class which makes up a lot of basic music knowledge.",
         "5",
         "class helpful currently still learning class make lot basic music knowledge"
        ],
        [
         "2",
         "2",
         "like!Prof and TAs are helpful and the discussion among students are quite active. Very rewarding learning experience!",
         "5",
         "like prof ta helpful discussion among student quite active rewarding learning experience"
        ],
        [
         "3",
         "3",
         "Easy to follow and includes a lot basic and important techniques to use sketchup.",
         "5",
         "easy follow includes lot basic important technique use sketchup"
        ],
        [
         "4",
         "4",
         "Really nice teacher!I could got the point eazliy but the v",
         "4",
         "really nice teacher could got point eazliy v"
        ]
       ],
       "shape": {
        "columns": 4,
        "rows": 5
       }
      },
      "text/html": [
       "<div>\n",
       "<style scoped>\n",
       "    .dataframe tbody tr th:only-of-type {\n",
       "        vertical-align: middle;\n",
       "    }\n",
       "\n",
       "    .dataframe tbody tr th {\n",
       "        vertical-align: top;\n",
       "    }\n",
       "\n",
       "    .dataframe thead th {\n",
       "        text-align: right;\n",
       "    }\n",
       "</style>\n",
       "<table border=\"1\" class=\"dataframe\">\n",
       "  <thead>\n",
       "    <tr style=\"text-align: right;\">\n",
       "      <th></th>\n",
       "      <th>Id</th>\n",
       "      <th>Review</th>\n",
       "      <th>Label</th>\n",
       "      <th>processed</th>\n",
       "    </tr>\n",
       "  </thead>\n",
       "  <tbody>\n",
       "    <tr>\n",
       "      <th>0</th>\n",
       "      <td>0</td>\n",
       "      <td>good and interesting</td>\n",
       "      <td>5</td>\n",
       "      <td>good interesting</td>\n",
       "    </tr>\n",
       "    <tr>\n",
       "      <th>1</th>\n",
       "      <td>1</td>\n",
       "      <td>This class is very helpful to me. Currently, I...</td>\n",
       "      <td>5</td>\n",
       "      <td>class helpful currently still learning class m...</td>\n",
       "    </tr>\n",
       "    <tr>\n",
       "      <th>2</th>\n",
       "      <td>2</td>\n",
       "      <td>like!Prof and TAs are helpful and the discussi...</td>\n",
       "      <td>5</td>\n",
       "      <td>like prof ta helpful discussion among student ...</td>\n",
       "    </tr>\n",
       "    <tr>\n",
       "      <th>3</th>\n",
       "      <td>3</td>\n",
       "      <td>Easy to follow and includes a lot basic and im...</td>\n",
       "      <td>5</td>\n",
       "      <td>easy follow includes lot basic important techn...</td>\n",
       "    </tr>\n",
       "    <tr>\n",
       "      <th>4</th>\n",
       "      <td>4</td>\n",
       "      <td>Really nice teacher!I could got the point eazl...</td>\n",
       "      <td>4</td>\n",
       "      <td>really nice teacher could got point eazliy v</td>\n",
       "    </tr>\n",
       "  </tbody>\n",
       "</table>\n",
       "</div>"
      ],
      "text/plain": [
       "   Id                                             Review  Label  \\\n",
       "0   0                               good and interesting      5   \n",
       "1   1  This class is very helpful to me. Currently, I...      5   \n",
       "2   2  like!Prof and TAs are helpful and the discussi...      5   \n",
       "3   3  Easy to follow and includes a lot basic and im...      5   \n",
       "4   4  Really nice teacher!I could got the point eazl...      4   \n",
       "\n",
       "                                           processed  \n",
       "0                                   good interesting  \n",
       "1  class helpful currently still learning class m...  \n",
       "2  like prof ta helpful discussion among student ...  \n",
       "3  easy follow includes lot basic important techn...  \n",
       "4       really nice teacher could got point eazliy v  "
      ]
     },
     "execution_count": 5,
     "metadata": {},
     "output_type": "execute_result"
    }
   ],
   "source": [
    "df['processed'] = df['Review'].apply(clean_text)\n",
    "df.head()"
   ]
  },
  {
   "cell_type": "code",
   "execution_count": null,
   "id": "80310169",
   "metadata": {},
   "outputs": [],
   "source": [
    "DetectorFactory.seed = 0\n",
    "\n",
    "def is_english(text):\n",
    "    \"\"\"Return True if detected language is English, False otherwise.\"\"\"\n",
    "    try:\n",
    "        return detect(text) == 'en'\n",
    "    except:\n",
    "        # langdetect can fail on very short or weird text\n",
    "        return False"
   ]
  },
  {
   "cell_type": "code",
   "execution_count": 7,
   "id": "3ac08aa4",
   "metadata": {},
   "outputs": [
    {
     "data": {
      "application/vnd.microsoft.datawrangler.viewer.v0+json": {
       "columns": [
        {
         "name": "index",
         "rawType": "int64",
         "type": "integer"
        },
        {
         "name": "Id",
         "rawType": "int64",
         "type": "integer"
        },
        {
         "name": "Review",
         "rawType": "object",
         "type": "string"
        },
        {
         "name": "Label",
         "rawType": "int64",
         "type": "integer"
        },
        {
         "name": "processed",
         "rawType": "object",
         "type": "string"
        },
        {
         "name": "is_english",
         "rawType": "bool",
         "type": "boolean"
        }
       ],
       "ref": "6a907a85-926f-4cb9-a441-ff8624c54552",
       "rows": [
        [
         "0",
         "0",
         "good and interesting",
         "5",
         "good interesting",
         "True"
        ],
        [
         "1",
         "1",
         "This class is very helpful to me. Currently, I'm still learning this class which makes up a lot of basic music knowledge.",
         "5",
         "class helpful currently still learning class make lot basic music knowledge",
         "True"
        ],
        [
         "2",
         "2",
         "like!Prof and TAs are helpful and the discussion among students are quite active. Very rewarding learning experience!",
         "5",
         "like prof ta helpful discussion among student quite active rewarding learning experience",
         "True"
        ],
        [
         "3",
         "3",
         "Easy to follow and includes a lot basic and important techniques to use sketchup.",
         "5",
         "easy follow includes lot basic important technique use sketchup",
         "True"
        ],
        [
         "4",
         "4",
         "Really nice teacher!I could got the point eazliy but the v",
         "4",
         "really nice teacher could got point eazliy v",
         "True"
        ]
       ],
       "shape": {
        "columns": 5,
        "rows": 5
       }
      },
      "text/html": [
       "<div>\n",
       "<style scoped>\n",
       "    .dataframe tbody tr th:only-of-type {\n",
       "        vertical-align: middle;\n",
       "    }\n",
       "\n",
       "    .dataframe tbody tr th {\n",
       "        vertical-align: top;\n",
       "    }\n",
       "\n",
       "    .dataframe thead th {\n",
       "        text-align: right;\n",
       "    }\n",
       "</style>\n",
       "<table border=\"1\" class=\"dataframe\">\n",
       "  <thead>\n",
       "    <tr style=\"text-align: right;\">\n",
       "      <th></th>\n",
       "      <th>Id</th>\n",
       "      <th>Review</th>\n",
       "      <th>Label</th>\n",
       "      <th>processed</th>\n",
       "      <th>is_english</th>\n",
       "    </tr>\n",
       "  </thead>\n",
       "  <tbody>\n",
       "    <tr>\n",
       "      <th>0</th>\n",
       "      <td>0</td>\n",
       "      <td>good and interesting</td>\n",
       "      <td>5</td>\n",
       "      <td>good interesting</td>\n",
       "      <td>True</td>\n",
       "    </tr>\n",
       "    <tr>\n",
       "      <th>1</th>\n",
       "      <td>1</td>\n",
       "      <td>This class is very helpful to me. Currently, I...</td>\n",
       "      <td>5</td>\n",
       "      <td>class helpful currently still learning class m...</td>\n",
       "      <td>True</td>\n",
       "    </tr>\n",
       "    <tr>\n",
       "      <th>2</th>\n",
       "      <td>2</td>\n",
       "      <td>like!Prof and TAs are helpful and the discussi...</td>\n",
       "      <td>5</td>\n",
       "      <td>like prof ta helpful discussion among student ...</td>\n",
       "      <td>True</td>\n",
       "    </tr>\n",
       "    <tr>\n",
       "      <th>3</th>\n",
       "      <td>3</td>\n",
       "      <td>Easy to follow and includes a lot basic and im...</td>\n",
       "      <td>5</td>\n",
       "      <td>easy follow includes lot basic important techn...</td>\n",
       "      <td>True</td>\n",
       "    </tr>\n",
       "    <tr>\n",
       "      <th>4</th>\n",
       "      <td>4</td>\n",
       "      <td>Really nice teacher!I could got the point eazl...</td>\n",
       "      <td>4</td>\n",
       "      <td>really nice teacher could got point eazliy v</td>\n",
       "      <td>True</td>\n",
       "    </tr>\n",
       "  </tbody>\n",
       "</table>\n",
       "</div>"
      ],
      "text/plain": [
       "   Id                                             Review  Label  \\\n",
       "0   0                               good and interesting      5   \n",
       "1   1  This class is very helpful to me. Currently, I...      5   \n",
       "2   2  like!Prof and TAs are helpful and the discussi...      5   \n",
       "3   3  Easy to follow and includes a lot basic and im...      5   \n",
       "4   4  Really nice teacher!I could got the point eazl...      4   \n",
       "\n",
       "                                           processed  is_english  \n",
       "0                                   good interesting        True  \n",
       "1  class helpful currently still learning class m...        True  \n",
       "2  like prof ta helpful discussion among student ...        True  \n",
       "3  easy follow includes lot basic important techn...        True  \n",
       "4       really nice teacher could got point eazliy v        True  "
      ]
     },
     "execution_count": 7,
     "metadata": {},
     "output_type": "execute_result"
    }
   ],
   "source": [
    "df['is_english'] = df['Review'].apply(is_english)\n",
    "df.head()"
   ]
  },
  {
   "cell_type": "code",
   "execution_count": 8,
   "id": "ccc3f3b2",
   "metadata": {},
   "outputs": [
    {
     "name": "stdout",
     "output_type": "stream",
     "text": [
      "is_english\n",
      "True    107018\n",
      "Name: count, dtype: int64\n"
     ]
    }
   ],
   "source": [
    "print(df['is_english'].value_counts())"
   ]
  },
  {
   "cell_type": "code",
   "execution_count": 9,
   "id": "57d994af",
   "metadata": {},
   "outputs": [],
   "source": [
    "def add_sentiment_column(df):\n",
    "    sentiment_map = {\n",
    "        1: 'negative',\n",
    "        2: 'negative',\n",
    "        3: 'neutral',\n",
    "        4: 'positive',\n",
    "        5: 'positive'\n",
    "    }\n",
    "    df['Sentiment'] = df['Label'].map(sentiment_map)\n",
    "    return df\n"
   ]
  },
  {
   "cell_type": "code",
   "execution_count": 10,
   "id": "132711ef",
   "metadata": {},
   "outputs": [
    {
     "data": {
      "application/vnd.microsoft.datawrangler.viewer.v0+json": {
       "columns": [
        {
         "name": "index",
         "rawType": "int64",
         "type": "integer"
        },
        {
         "name": "Id",
         "rawType": "int64",
         "type": "integer"
        },
        {
         "name": "Review",
         "rawType": "object",
         "type": "string"
        },
        {
         "name": "Label",
         "rawType": "int64",
         "type": "integer"
        },
        {
         "name": "processed",
         "rawType": "object",
         "type": "string"
        },
        {
         "name": "is_english",
         "rawType": "bool",
         "type": "boolean"
        },
        {
         "name": "Sentiment",
         "rawType": "object",
         "type": "string"
        }
       ],
       "ref": "176df356-7fe5-473b-ae79-5e738f8180e2",
       "rows": [
        [
         "0",
         "0",
         "good and interesting",
         "5",
         "good interesting",
         "True",
         "positive"
        ],
        [
         "1",
         "1",
         "This class is very helpful to me. Currently, I'm still learning this class which makes up a lot of basic music knowledge.",
         "5",
         "class helpful currently still learning class make lot basic music knowledge",
         "True",
         "positive"
        ],
        [
         "2",
         "2",
         "like!Prof and TAs are helpful and the discussion among students are quite active. Very rewarding learning experience!",
         "5",
         "like prof ta helpful discussion among student quite active rewarding learning experience",
         "True",
         "positive"
        ],
        [
         "3",
         "3",
         "Easy to follow and includes a lot basic and important techniques to use sketchup.",
         "5",
         "easy follow includes lot basic important technique use sketchup",
         "True",
         "positive"
        ],
        [
         "4",
         "4",
         "Really nice teacher!I could got the point eazliy but the v",
         "4",
         "really nice teacher could got point eazliy v",
         "True",
         "positive"
        ]
       ],
       "shape": {
        "columns": 6,
        "rows": 5
       }
      },
      "text/html": [
       "<div>\n",
       "<style scoped>\n",
       "    .dataframe tbody tr th:only-of-type {\n",
       "        vertical-align: middle;\n",
       "    }\n",
       "\n",
       "    .dataframe tbody tr th {\n",
       "        vertical-align: top;\n",
       "    }\n",
       "\n",
       "    .dataframe thead th {\n",
       "        text-align: right;\n",
       "    }\n",
       "</style>\n",
       "<table border=\"1\" class=\"dataframe\">\n",
       "  <thead>\n",
       "    <tr style=\"text-align: right;\">\n",
       "      <th></th>\n",
       "      <th>Id</th>\n",
       "      <th>Review</th>\n",
       "      <th>Label</th>\n",
       "      <th>processed</th>\n",
       "      <th>is_english</th>\n",
       "      <th>Sentiment</th>\n",
       "    </tr>\n",
       "  </thead>\n",
       "  <tbody>\n",
       "    <tr>\n",
       "      <th>0</th>\n",
       "      <td>0</td>\n",
       "      <td>good and interesting</td>\n",
       "      <td>5</td>\n",
       "      <td>good interesting</td>\n",
       "      <td>True</td>\n",
       "      <td>positive</td>\n",
       "    </tr>\n",
       "    <tr>\n",
       "      <th>1</th>\n",
       "      <td>1</td>\n",
       "      <td>This class is very helpful to me. Currently, I...</td>\n",
       "      <td>5</td>\n",
       "      <td>class helpful currently still learning class m...</td>\n",
       "      <td>True</td>\n",
       "      <td>positive</td>\n",
       "    </tr>\n",
       "    <tr>\n",
       "      <th>2</th>\n",
       "      <td>2</td>\n",
       "      <td>like!Prof and TAs are helpful and the discussi...</td>\n",
       "      <td>5</td>\n",
       "      <td>like prof ta helpful discussion among student ...</td>\n",
       "      <td>True</td>\n",
       "      <td>positive</td>\n",
       "    </tr>\n",
       "    <tr>\n",
       "      <th>3</th>\n",
       "      <td>3</td>\n",
       "      <td>Easy to follow and includes a lot basic and im...</td>\n",
       "      <td>5</td>\n",
       "      <td>easy follow includes lot basic important techn...</td>\n",
       "      <td>True</td>\n",
       "      <td>positive</td>\n",
       "    </tr>\n",
       "    <tr>\n",
       "      <th>4</th>\n",
       "      <td>4</td>\n",
       "      <td>Really nice teacher!I could got the point eazl...</td>\n",
       "      <td>4</td>\n",
       "      <td>really nice teacher could got point eazliy v</td>\n",
       "      <td>True</td>\n",
       "      <td>positive</td>\n",
       "    </tr>\n",
       "  </tbody>\n",
       "</table>\n",
       "</div>"
      ],
      "text/plain": [
       "   Id                                             Review  Label  \\\n",
       "0   0                               good and interesting      5   \n",
       "1   1  This class is very helpful to me. Currently, I...      5   \n",
       "2   2  like!Prof and TAs are helpful and the discussi...      5   \n",
       "3   3  Easy to follow and includes a lot basic and im...      5   \n",
       "4   4  Really nice teacher!I could got the point eazl...      4   \n",
       "\n",
       "                                           processed  is_english Sentiment  \n",
       "0                                   good interesting        True  positive  \n",
       "1  class helpful currently still learning class m...        True  positive  \n",
       "2  like prof ta helpful discussion among student ...        True  positive  \n",
       "3  easy follow includes lot basic important techn...        True  positive  \n",
       "4       really nice teacher could got point eazliy v        True  positive  "
      ]
     },
     "execution_count": 10,
     "metadata": {},
     "output_type": "execute_result"
    }
   ],
   "source": [
    "df = add_sentiment_column(df)\n",
    "df.head()"
   ]
  },
  {
   "cell_type": "code",
   "execution_count": 15,
   "id": "c4e3706d",
   "metadata": {},
   "outputs": [],
   "source": [
    "le = LabelEncoder()\n",
    "df['Sentiment_encoded'] = le.fit_transform(df['Sentiment'])\n",
    "\n",
    "tfidf = TfidfVectorizer(\n",
    "    max_features=20000,  \n",
    "    ngram_range=(1,2),  \n",
    "    stop_words='english'\n",
    ")\n",
    "\n",
    "X = tfidf.fit_transform(df['processed'])\n",
    "y = df['Sentiment_encoded']"
   ]
  }
 ],
 "metadata": {
  "kernelspec": {
   "display_name": "NLP_ENV_ITRPA",
   "language": "python",
   "name": "python3"
  },
  "language_info": {
   "codemirror_mode": {
    "name": "ipython",
    "version": 3
   },
   "file_extension": ".py",
   "mimetype": "text/x-python",
   "name": "python",
   "nbconvert_exporter": "python",
   "pygments_lexer": "ipython3",
   "version": "3.11.13"
  }
 },
 "nbformat": 4,
 "nbformat_minor": 5
}
