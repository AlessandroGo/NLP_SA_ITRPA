{
 "cells": [
  {
   "cell_type": "markdown",
   "id": "b2d8e304",
   "metadata": {},
   "source": [
    "# Imports"
   ]
  },
  {
   "cell_type": "code",
   "execution_count": 85,
   "id": "26d90edd",
   "metadata": {},
   "outputs": [],
   "source": [
    "import pandas as pd\n",
    "import numpy as np\n",
    "import re\n",
    "import string\n",
    "import nltk\n",
    "from nltk.corpus import stopwords\n",
    "from nltk.stem import WordNetLemmatizer\n",
    "\n",
    "from sklearn.preprocessing import LabelEncoder\n",
    "from sklearn.feature_extraction.text import TfidfVectorizer\n",
    "from langdetect import detect, DetectorFactory\n",
    "\n",
    "from sklearn.model_selection import train_test_split\n",
    "from sklearn.linear_model import LogisticRegression\n",
    "from sklearn.naive_bayes import MultinomialNB\n",
    "from sklearn.svm import LinearSVC\n",
    "\n",
    "import os\n",
    "import time\n",
    "import json\n",
    "import matplotlib.pyplot as plt\n",
    "from sklearn.metrics import (\n",
    "    classification_report, accuracy_score, roc_curve, auc, roc_auc_score, f1_score, make_scorer\n",
    ")\n",
    "from sklearn.preprocessing import label_binarize\n",
    "\n",
    "from sklearn.naive_bayes import ComplementNB\n",
    "from sklearn.calibration import CalibratedClassifierCV\n",
    "from imblearn.over_sampling import RandomOverSampler\n",
    "from imblearn.pipeline import Pipeline\n",
    "\n",
    "from sklearn.tree import DecisionTreeClassifier\n",
    "from sklearn.ensemble import RandomForestClassifier\n",
    "from lightgbm import LGBMClassifier\n",
    "\n",
    "from xgboost import XGBClassifier\n",
    "\n",
    "\n",
    "from sklearn.model_selection import GridSearchCV, StratifiedKFold\n",
    "from sklearn.model_selection import RandomizedSearchCV\n",
    "from scipy.stats import randint, uniform\n",
    "\n",
    "import pickle"
   ]
  },
  {
   "cell_type": "code",
   "execution_count": 3,
   "id": "bee4904d",
   "metadata": {},
   "outputs": [],
   "source": [
    "# Download once\n",
    "# nltk.download('stopwords')\n",
    "# nltk.download('wordnet')\n",
    "# nltk.download('omw-1.4')"
   ]
  },
  {
   "cell_type": "markdown",
   "id": "f7ea1234",
   "metadata": {},
   "source": [
    "# Load Data"
   ]
  },
  {
   "cell_type": "code",
   "execution_count": 4,
   "id": "8fa34705",
   "metadata": {},
   "outputs": [],
   "source": [
    "df = pd.read_csv(\"./data/reviews.csv\")\n",
    "df.dropna(subset=['Review', 'Label'], inplace=True)\n",
    "df['Review'] = df['Review'].astype(str)"
   ]
  },
  {
   "cell_type": "markdown",
   "id": "5fc303f3",
   "metadata": {},
   "source": [
    "# Preprocess Text"
   ]
  },
  {
   "cell_type": "code",
   "execution_count": 5,
   "id": "4826d540",
   "metadata": {},
   "outputs": [],
   "source": [
    "def clean_text(text):\n",
    "    # clean out tags urls and only alphabet + no multiple spaces\n",
    "    text = str(text).lower()\n",
    "    text = re.sub(r\"http\\S+|www\\S+|https\\S+\", '', text)\n",
    "    text = re.sub(r\"@\\w+|#\\w+\", '', text)\n",
    "    text = re.sub(r\"[^a-zA-Z\\s]\", ' ', text)\n",
    "    text = re.sub(r'\\s+', ' ', text).strip()\n",
    "    # Remove stop words and lemmatize\n",
    "    stop_words = set(stopwords.words('english'))\n",
    "    lemmatizer = WordNetLemmatizer()\n",
    "    tokens = [lemmatizer.lemmatize(w) for w in text.split() if w not in stop_words]\n",
    "    return ' '.join(tokens)"
   ]
  },
  {
   "cell_type": "code",
   "execution_count": 6,
   "id": "72a0ad14",
   "metadata": {},
   "outputs": [
    {
     "data": {
      "application/vnd.microsoft.datawrangler.viewer.v0+json": {
       "columns": [
        {
         "name": "index",
         "rawType": "int64",
         "type": "integer"
        },
        {
         "name": "Id",
         "rawType": "int64",
         "type": "integer"
        },
        {
         "name": "Review",
         "rawType": "object",
         "type": "string"
        },
        {
         "name": "Label",
         "rawType": "int64",
         "type": "integer"
        },
        {
         "name": "processed",
         "rawType": "object",
         "type": "string"
        }
       ],
       "ref": "570575d9-313f-4de1-a64b-86d7a03a0577",
       "rows": [
        [
         "0",
         "0",
         "good and interesting",
         "5",
         "good interesting"
        ],
        [
         "1",
         "1",
         "This class is very helpful to me. Currently, I'm still learning this class which makes up a lot of basic music knowledge.",
         "5",
         "class helpful currently still learning class make lot basic music knowledge"
        ],
        [
         "2",
         "2",
         "like!Prof and TAs are helpful and the discussion among students are quite active. Very rewarding learning experience!",
         "5",
         "like prof ta helpful discussion among student quite active rewarding learning experience"
        ],
        [
         "3",
         "3",
         "Easy to follow and includes a lot basic and important techniques to use sketchup.",
         "5",
         "easy follow includes lot basic important technique use sketchup"
        ],
        [
         "4",
         "4",
         "Really nice teacher!I could got the point eazliy but the v",
         "4",
         "really nice teacher could got point eazliy v"
        ]
       ],
       "shape": {
        "columns": 4,
        "rows": 5
       }
      },
      "text/html": [
       "<div>\n",
       "<style scoped>\n",
       "    .dataframe tbody tr th:only-of-type {\n",
       "        vertical-align: middle;\n",
       "    }\n",
       "\n",
       "    .dataframe tbody tr th {\n",
       "        vertical-align: top;\n",
       "    }\n",
       "\n",
       "    .dataframe thead th {\n",
       "        text-align: right;\n",
       "    }\n",
       "</style>\n",
       "<table border=\"1\" class=\"dataframe\">\n",
       "  <thead>\n",
       "    <tr style=\"text-align: right;\">\n",
       "      <th></th>\n",
       "      <th>Id</th>\n",
       "      <th>Review</th>\n",
       "      <th>Label</th>\n",
       "      <th>processed</th>\n",
       "    </tr>\n",
       "  </thead>\n",
       "  <tbody>\n",
       "    <tr>\n",
       "      <th>0</th>\n",
       "      <td>0</td>\n",
       "      <td>good and interesting</td>\n",
       "      <td>5</td>\n",
       "      <td>good interesting</td>\n",
       "    </tr>\n",
       "    <tr>\n",
       "      <th>1</th>\n",
       "      <td>1</td>\n",
       "      <td>This class is very helpful to me. Currently, I...</td>\n",
       "      <td>5</td>\n",
       "      <td>class helpful currently still learning class m...</td>\n",
       "    </tr>\n",
       "    <tr>\n",
       "      <th>2</th>\n",
       "      <td>2</td>\n",
       "      <td>like!Prof and TAs are helpful and the discussi...</td>\n",
       "      <td>5</td>\n",
       "      <td>like prof ta helpful discussion among student ...</td>\n",
       "    </tr>\n",
       "    <tr>\n",
       "      <th>3</th>\n",
       "      <td>3</td>\n",
       "      <td>Easy to follow and includes a lot basic and im...</td>\n",
       "      <td>5</td>\n",
       "      <td>easy follow includes lot basic important techn...</td>\n",
       "    </tr>\n",
       "    <tr>\n",
       "      <th>4</th>\n",
       "      <td>4</td>\n",
       "      <td>Really nice teacher!I could got the point eazl...</td>\n",
       "      <td>4</td>\n",
       "      <td>really nice teacher could got point eazliy v</td>\n",
       "    </tr>\n",
       "  </tbody>\n",
       "</table>\n",
       "</div>"
      ],
      "text/plain": [
       "   Id                                             Review  Label  \\\n",
       "0   0                               good and interesting      5   \n",
       "1   1  This class is very helpful to me. Currently, I...      5   \n",
       "2   2  like!Prof and TAs are helpful and the discussi...      5   \n",
       "3   3  Easy to follow and includes a lot basic and im...      5   \n",
       "4   4  Really nice teacher!I could got the point eazl...      4   \n",
       "\n",
       "                                           processed  \n",
       "0                                   good interesting  \n",
       "1  class helpful currently still learning class m...  \n",
       "2  like prof ta helpful discussion among student ...  \n",
       "3  easy follow includes lot basic important techn...  \n",
       "4       really nice teacher could got point eazliy v  "
      ]
     },
     "execution_count": 6,
     "metadata": {},
     "output_type": "execute_result"
    }
   ],
   "source": [
    "df['processed'] = df['Review'].apply(clean_text)\n",
    "df.head()"
   ]
  },
  {
   "cell_type": "code",
   "execution_count": 7,
   "id": "80310169",
   "metadata": {},
   "outputs": [],
   "source": [
    "DetectorFactory.seed = 0\n",
    "\n",
    "def is_english(text):\n",
    "    \"\"\"Return True if detected language is English, False otherwise.\"\"\"\n",
    "    try:\n",
    "        return detect(text) == 'en'\n",
    "    except:\n",
    "        # langdetect can fail on very short or weird text\n",
    "        return False"
   ]
  },
  {
   "cell_type": "code",
   "execution_count": 8,
   "id": "3ac08aa4",
   "metadata": {},
   "outputs": [
    {
     "data": {
      "application/vnd.microsoft.datawrangler.viewer.v0+json": {
       "columns": [
        {
         "name": "index",
         "rawType": "int64",
         "type": "integer"
        },
        {
         "name": "Id",
         "rawType": "int64",
         "type": "integer"
        },
        {
         "name": "Review",
         "rawType": "object",
         "type": "string"
        },
        {
         "name": "Label",
         "rawType": "int64",
         "type": "integer"
        },
        {
         "name": "processed",
         "rawType": "object",
         "type": "string"
        },
        {
         "name": "is_english",
         "rawType": "bool",
         "type": "boolean"
        }
       ],
       "ref": "85117cdd-9500-4430-9e02-2d0bce8a5395",
       "rows": [
        [
         "0",
         "0",
         "good and interesting",
         "5",
         "good interesting",
         "True"
        ],
        [
         "1",
         "1",
         "This class is very helpful to me. Currently, I'm still learning this class which makes up a lot of basic music knowledge.",
         "5",
         "class helpful currently still learning class make lot basic music knowledge",
         "True"
        ],
        [
         "2",
         "2",
         "like!Prof and TAs are helpful and the discussion among students are quite active. Very rewarding learning experience!",
         "5",
         "like prof ta helpful discussion among student quite active rewarding learning experience",
         "True"
        ],
        [
         "3",
         "3",
         "Easy to follow and includes a lot basic and important techniques to use sketchup.",
         "5",
         "easy follow includes lot basic important technique use sketchup",
         "True"
        ],
        [
         "4",
         "4",
         "Really nice teacher!I could got the point eazliy but the v",
         "4",
         "really nice teacher could got point eazliy v",
         "True"
        ]
       ],
       "shape": {
        "columns": 5,
        "rows": 5
       }
      },
      "text/html": [
       "<div>\n",
       "<style scoped>\n",
       "    .dataframe tbody tr th:only-of-type {\n",
       "        vertical-align: middle;\n",
       "    }\n",
       "\n",
       "    .dataframe tbody tr th {\n",
       "        vertical-align: top;\n",
       "    }\n",
       "\n",
       "    .dataframe thead th {\n",
       "        text-align: right;\n",
       "    }\n",
       "</style>\n",
       "<table border=\"1\" class=\"dataframe\">\n",
       "  <thead>\n",
       "    <tr style=\"text-align: right;\">\n",
       "      <th></th>\n",
       "      <th>Id</th>\n",
       "      <th>Review</th>\n",
       "      <th>Label</th>\n",
       "      <th>processed</th>\n",
       "      <th>is_english</th>\n",
       "    </tr>\n",
       "  </thead>\n",
       "  <tbody>\n",
       "    <tr>\n",
       "      <th>0</th>\n",
       "      <td>0</td>\n",
       "      <td>good and interesting</td>\n",
       "      <td>5</td>\n",
       "      <td>good interesting</td>\n",
       "      <td>True</td>\n",
       "    </tr>\n",
       "    <tr>\n",
       "      <th>1</th>\n",
       "      <td>1</td>\n",
       "      <td>This class is very helpful to me. Currently, I...</td>\n",
       "      <td>5</td>\n",
       "      <td>class helpful currently still learning class m...</td>\n",
       "      <td>True</td>\n",
       "    </tr>\n",
       "    <tr>\n",
       "      <th>2</th>\n",
       "      <td>2</td>\n",
       "      <td>like!Prof and TAs are helpful and the discussi...</td>\n",
       "      <td>5</td>\n",
       "      <td>like prof ta helpful discussion among student ...</td>\n",
       "      <td>True</td>\n",
       "    </tr>\n",
       "    <tr>\n",
       "      <th>3</th>\n",
       "      <td>3</td>\n",
       "      <td>Easy to follow and includes a lot basic and im...</td>\n",
       "      <td>5</td>\n",
       "      <td>easy follow includes lot basic important techn...</td>\n",
       "      <td>True</td>\n",
       "    </tr>\n",
       "    <tr>\n",
       "      <th>4</th>\n",
       "      <td>4</td>\n",
       "      <td>Really nice teacher!I could got the point eazl...</td>\n",
       "      <td>4</td>\n",
       "      <td>really nice teacher could got point eazliy v</td>\n",
       "      <td>True</td>\n",
       "    </tr>\n",
       "  </tbody>\n",
       "</table>\n",
       "</div>"
      ],
      "text/plain": [
       "   Id                                             Review  Label  \\\n",
       "0   0                               good and interesting      5   \n",
       "1   1  This class is very helpful to me. Currently, I...      5   \n",
       "2   2  like!Prof and TAs are helpful and the discussi...      5   \n",
       "3   3  Easy to follow and includes a lot basic and im...      5   \n",
       "4   4  Really nice teacher!I could got the point eazl...      4   \n",
       "\n",
       "                                           processed  is_english  \n",
       "0                                   good interesting        True  \n",
       "1  class helpful currently still learning class m...        True  \n",
       "2  like prof ta helpful discussion among student ...        True  \n",
       "3  easy follow includes lot basic important techn...        True  \n",
       "4       really nice teacher could got point eazliy v        True  "
      ]
     },
     "execution_count": 8,
     "metadata": {},
     "output_type": "execute_result"
    }
   ],
   "source": [
    "df['is_english'] = df['Review'].apply(is_english)\n",
    "df.head()"
   ]
  },
  {
   "cell_type": "code",
   "execution_count": 9,
   "id": "ccc3f3b2",
   "metadata": {},
   "outputs": [
    {
     "name": "stdout",
     "output_type": "stream",
     "text": [
      "is_english\n",
      "True    107018\n",
      "Name: count, dtype: int64\n"
     ]
    }
   ],
   "source": [
    "print(df['is_english'].value_counts())"
   ]
  },
  {
   "cell_type": "code",
   "execution_count": 10,
   "id": "57d994af",
   "metadata": {},
   "outputs": [],
   "source": [
    "def add_sentiment_column(df):\n",
    "    sentiment_map = {\n",
    "        1: 'negative',\n",
    "        2: 'negative',\n",
    "        3: 'neutral',\n",
    "        4: 'positive',\n",
    "        5: 'positive'\n",
    "    }\n",
    "    df['Sentiment'] = df['Label'].map(sentiment_map)\n",
    "    return df\n"
   ]
  },
  {
   "cell_type": "code",
   "execution_count": 11,
   "id": "132711ef",
   "metadata": {},
   "outputs": [
    {
     "data": {
      "application/vnd.microsoft.datawrangler.viewer.v0+json": {
       "columns": [
        {
         "name": "index",
         "rawType": "int64",
         "type": "integer"
        },
        {
         "name": "Id",
         "rawType": "int64",
         "type": "integer"
        },
        {
         "name": "Review",
         "rawType": "object",
         "type": "string"
        },
        {
         "name": "Label",
         "rawType": "int64",
         "type": "integer"
        },
        {
         "name": "processed",
         "rawType": "object",
         "type": "string"
        },
        {
         "name": "is_english",
         "rawType": "bool",
         "type": "boolean"
        },
        {
         "name": "Sentiment",
         "rawType": "object",
         "type": "string"
        }
       ],
       "ref": "0a7f7ecb-33f7-4200-a7c9-d87d52ff1d6b",
       "rows": [
        [
         "0",
         "0",
         "good and interesting",
         "5",
         "good interesting",
         "True",
         "positive"
        ],
        [
         "1",
         "1",
         "This class is very helpful to me. Currently, I'm still learning this class which makes up a lot of basic music knowledge.",
         "5",
         "class helpful currently still learning class make lot basic music knowledge",
         "True",
         "positive"
        ],
        [
         "2",
         "2",
         "like!Prof and TAs are helpful and the discussion among students are quite active. Very rewarding learning experience!",
         "5",
         "like prof ta helpful discussion among student quite active rewarding learning experience",
         "True",
         "positive"
        ],
        [
         "3",
         "3",
         "Easy to follow and includes a lot basic and important techniques to use sketchup.",
         "5",
         "easy follow includes lot basic important technique use sketchup",
         "True",
         "positive"
        ],
        [
         "4",
         "4",
         "Really nice teacher!I could got the point eazliy but the v",
         "4",
         "really nice teacher could got point eazliy v",
         "True",
         "positive"
        ]
       ],
       "shape": {
        "columns": 6,
        "rows": 5
       }
      },
      "text/html": [
       "<div>\n",
       "<style scoped>\n",
       "    .dataframe tbody tr th:only-of-type {\n",
       "        vertical-align: middle;\n",
       "    }\n",
       "\n",
       "    .dataframe tbody tr th {\n",
       "        vertical-align: top;\n",
       "    }\n",
       "\n",
       "    .dataframe thead th {\n",
       "        text-align: right;\n",
       "    }\n",
       "</style>\n",
       "<table border=\"1\" class=\"dataframe\">\n",
       "  <thead>\n",
       "    <tr style=\"text-align: right;\">\n",
       "      <th></th>\n",
       "      <th>Id</th>\n",
       "      <th>Review</th>\n",
       "      <th>Label</th>\n",
       "      <th>processed</th>\n",
       "      <th>is_english</th>\n",
       "      <th>Sentiment</th>\n",
       "    </tr>\n",
       "  </thead>\n",
       "  <tbody>\n",
       "    <tr>\n",
       "      <th>0</th>\n",
       "      <td>0</td>\n",
       "      <td>good and interesting</td>\n",
       "      <td>5</td>\n",
       "      <td>good interesting</td>\n",
       "      <td>True</td>\n",
       "      <td>positive</td>\n",
       "    </tr>\n",
       "    <tr>\n",
       "      <th>1</th>\n",
       "      <td>1</td>\n",
       "      <td>This class is very helpful to me. Currently, I...</td>\n",
       "      <td>5</td>\n",
       "      <td>class helpful currently still learning class m...</td>\n",
       "      <td>True</td>\n",
       "      <td>positive</td>\n",
       "    </tr>\n",
       "    <tr>\n",
       "      <th>2</th>\n",
       "      <td>2</td>\n",
       "      <td>like!Prof and TAs are helpful and the discussi...</td>\n",
       "      <td>5</td>\n",
       "      <td>like prof ta helpful discussion among student ...</td>\n",
       "      <td>True</td>\n",
       "      <td>positive</td>\n",
       "    </tr>\n",
       "    <tr>\n",
       "      <th>3</th>\n",
       "      <td>3</td>\n",
       "      <td>Easy to follow and includes a lot basic and im...</td>\n",
       "      <td>5</td>\n",
       "      <td>easy follow includes lot basic important techn...</td>\n",
       "      <td>True</td>\n",
       "      <td>positive</td>\n",
       "    </tr>\n",
       "    <tr>\n",
       "      <th>4</th>\n",
       "      <td>4</td>\n",
       "      <td>Really nice teacher!I could got the point eazl...</td>\n",
       "      <td>4</td>\n",
       "      <td>really nice teacher could got point eazliy v</td>\n",
       "      <td>True</td>\n",
       "      <td>positive</td>\n",
       "    </tr>\n",
       "  </tbody>\n",
       "</table>\n",
       "</div>"
      ],
      "text/plain": [
       "   Id                                             Review  Label  \\\n",
       "0   0                               good and interesting      5   \n",
       "1   1  This class is very helpful to me. Currently, I...      5   \n",
       "2   2  like!Prof and TAs are helpful and the discussi...      5   \n",
       "3   3  Easy to follow and includes a lot basic and im...      5   \n",
       "4   4  Really nice teacher!I could got the point eazl...      4   \n",
       "\n",
       "                                           processed  is_english Sentiment  \n",
       "0                                   good interesting        True  positive  \n",
       "1  class helpful currently still learning class m...        True  positive  \n",
       "2  like prof ta helpful discussion among student ...        True  positive  \n",
       "3  easy follow includes lot basic important techn...        True  positive  \n",
       "4       really nice teacher could got point eazliy v        True  positive  "
      ]
     },
     "execution_count": 11,
     "metadata": {},
     "output_type": "execute_result"
    }
   ],
   "source": [
    "df = add_sentiment_column(df)\n",
    "df.head()"
   ]
  },
  {
   "cell_type": "code",
   "execution_count": 12,
   "id": "c4e3706d",
   "metadata": {},
   "outputs": [],
   "source": [
    "le = LabelEncoder()\n",
    "df['Sentiment_encoded'] = le.fit_transform(df['Sentiment'])\n",
    "\n",
    "tfidf = TfidfVectorizer(\n",
    "    max_features=20000,  \n",
    "    ngram_range=(1,2),  \n",
    "    stop_words='english'\n",
    ")\n",
    "\n",
    "X = tfidf.fit_transform(df['processed'])\n",
    "y = df['Sentiment_encoded']"
   ]
  },
  {
   "cell_type": "markdown",
   "id": "41923441",
   "metadata": {},
   "source": [
    "# Train Test Split and Model Building"
   ]
  },
  {
   "cell_type": "code",
   "execution_count": 13,
   "id": "f9a70179",
   "metadata": {},
   "outputs": [
    {
     "data": {
      "application/vnd.microsoft.datawrangler.viewer.v0+json": {
       "columns": [
        {
         "name": "Sentiment",
         "rawType": "object",
         "type": "string"
        },
        {
         "name": "count",
         "rawType": "int64",
         "type": "integer"
        }
       ],
       "ref": "5978bc83-2ae7-4597-89a5-a92253e45864",
       "rows": [
        [
         "positive",
         "97227"
        ],
        [
         "neutral",
         "5071"
        ],
        [
         "negative",
         "4720"
        ]
       ],
       "shape": {
        "columns": 1,
        "rows": 3
       }
      },
      "text/plain": [
       "Sentiment\n",
       "positive    97227\n",
       "neutral      5071\n",
       "negative     4720\n",
       "Name: count, dtype: int64"
      ]
     },
     "execution_count": 13,
     "metadata": {},
     "output_type": "execute_result"
    }
   ],
   "source": [
    "df['Sentiment'].value_counts()"
   ]
  },
  {
   "cell_type": "code",
   "execution_count": 14,
   "id": "4bd46cae",
   "metadata": {},
   "outputs": [],
   "source": [
    "X_train, X_test, y_train, y_test = train_test_split(\n",
    "    X, y, test_size=0.2, random_state=42, stratify=y\n",
    ")"
   ]
  },
  {
   "cell_type": "code",
   "execution_count": 15,
   "id": "d7f3b5ac",
   "metadata": {},
   "outputs": [],
   "source": [
    "models = {\n",
    "    \"Logistic Regression\": LogisticRegression(max_iter=1000),\n",
    "    \"Naive Bayes\": MultinomialNB(),\n",
    "    \"Linear SVM\": LinearSVC()\n",
    "}\n"
   ]
  },
  {
   "cell_type": "code",
   "execution_count": 16,
   "id": "b40718a4",
   "metadata": {},
   "outputs": [],
   "source": [
    "# OpenAI (2025) ChatGPT (GPT-5) create metrics for common ML workloads, 7 October. Available at: https://chat.openai.com/\n",
    "# (Accessed: 7 October 2025).\n",
    "def evaluate_and_log_model(name, model, X_train, X_test, y_train, y_test, target_names):\n",
    "    print(f\"\\n🚀 Training {name}...\")\n",
    "    start_time = time.time()\n",
    "    model.fit(X_train, y_train)\n",
    "    train_time = time.time() - start_time\n",
    "\n",
    "    # --- predictions ---\n",
    "    y_pred_train = model.predict(X_train)\n",
    "    y_pred_test = model.predict(X_test)\n",
    "\n",
    "    # --- accuracies ---\n",
    "    train_acc = accuracy_score(y_train, y_pred_train)\n",
    "    test_acc = accuracy_score(y_test, y_pred_test)\n",
    "\n",
    "    print(f\"✅ {name} trained in {train_time:.2f} sec | Train Acc={train_acc:.4f} | Test Acc={test_acc:.4f}\")\n",
    "\n",
    "    # --- classification report ---\n",
    "    report = classification_report(y_test, y_pred_test, target_names=target_names, output_dict=True)\n",
    "\n",
    "    # --- create directory ---\n",
    "    folder = f'./results/{name.replace(\" \", \"_\")}'\n",
    "    os.makedirs(folder, exist_ok=True)\n",
    "\n",
    "    # --- save report to JSON ---\n",
    "    with open(f'{folder}/accuracy_report.json', 'w') as f:\n",
    "        json.dump({\n",
    "            'model': name,\n",
    "            'train_accuracy': train_acc,\n",
    "            'test_accuracy': test_acc,\n",
    "            'train_time_sec': train_time,\n",
    "            'classification_report': report\n",
    "        }, f, indent=4)\n",
    "\n",
    "    # --- ROC-AUC (for models with decision_function or predict_proba) ---\n",
    "    try:\n",
    "        if hasattr(model, \"predict_proba\"):\n",
    "            y_prob = model.predict_proba(X_test)\n",
    "        else:\n",
    "            y_prob = model.decision_function(X_test)\n",
    "\n",
    "        # Binarize labels for multi-class ROC\n",
    "        y_bin = label_binarize(y_test, classes=np.unique(y_test))\n",
    "        n_classes = y_bin.shape[1]\n",
    "\n",
    "        fpr, tpr, roc_auc = {}, {}, {}\n",
    "        for i in range(n_classes):\n",
    "            fpr[i], tpr[i], _ = roc_curve(y_bin[:, i], y_prob[:, i])\n",
    "            roc_auc[i] = auc(fpr[i], tpr[i])\n",
    "\n",
    "        plt.figure(figsize=(6, 5))\n",
    "        for i in range(n_classes):\n",
    "            plt.plot(fpr[i], tpr[i], lw=2,\n",
    "                     label=f'Class {target_names[i]} (AUC={roc_auc[i]:.2f})')\n",
    "        plt.plot([0, 1], [0, 1], 'k--')\n",
    "        plt.xlabel('False Positive Rate')\n",
    "        plt.ylabel('True Positive Rate')\n",
    "        plt.title(f'ROC Curve - {name}')\n",
    "        plt.legend()\n",
    "        plt.tight_layout()\n",
    "        plt.savefig(f'{folder}/roc_curve.png', dpi=120)\n",
    "        plt.close()\n",
    "    except Exception as e:\n",
    "        print(f\"⚠️ Could not compute ROC for {name}: {e}\")\n",
    "\n",
    "    # --- Train vs Test Accuracy comparison ---\n",
    "    plt.figure(figsize=(4, 5))\n",
    "    plt.bar(['Train', 'Test'], [train_acc, test_acc], color=['#4e79a7', '#f28e2b'])\n",
    "    plt.title(f'{name} Accuracy Comparison')\n",
    "    plt.ylabel('Accuracy')\n",
    "    plt.ylim(0, 1)\n",
    "    plt.tight_layout()\n",
    "    plt.savefig(f'{folder}/train_vs_test_accuracy.png', dpi=120)\n",
    "    plt.close()\n",
    "\n",
    "    print(f\"📂 Logs saved under: {folder}\\n\")\n",
    "\n",
    "    return {\n",
    "        'name': name,\n",
    "        'train_acc': train_acc,\n",
    "        'test_acc': test_acc,\n",
    "        'train_time': train_time\n",
    "    }"
   ]
  },
  {
   "cell_type": "code",
   "execution_count": 17,
   "id": "7df8e594",
   "metadata": {},
   "outputs": [
    {
     "name": "stdout",
     "output_type": "stream",
     "text": [
      "\n",
      "🚀 Training Logistic Regression...\n",
      "✅ Logistic Regression trained in 1.19 sec | Train Acc=0.9369 | Test Acc=0.9221\n",
      "📂 Logs saved under: ./results/Logistic_Regression\n",
      "\n",
      "\n",
      "🚀 Training Naive Bayes...\n",
      "✅ Naive Bayes trained in 0.01 sec | Train Acc=0.9175 | Test Acc=0.9142\n",
      "📂 Logs saved under: ./results/Naive_Bayes\n",
      "\n",
      "\n",
      "🚀 Training Linear SVM...\n",
      "✅ Linear SVM trained in 1.94 sec | Train Acc=0.9617 | Test Acc=0.9199\n",
      "📂 Logs saved under: ./results/Linear_SVM\n",
      "\n"
     ]
    }
   ],
   "source": [
    "results = []\n",
    "\n",
    "for name, model in models.items():\n",
    "    result = evaluate_and_log_model(name, model, X_train, X_test, y_train, y_test, target_names=['negative','neutral','positive'])\n",
    "    results.append(result)"
   ]
  },
  {
   "cell_type": "markdown",
   "id": "27543121",
   "metadata": {},
   "source": [
    "Big problem looking at the classification report is that this class imbalance means that positive class it predicted quite well, but the neutral and negative class predictions aren't performing very well."
   ]
  },
  {
   "cell_type": "code",
   "execution_count": 18,
   "id": "054e9b1a",
   "metadata": {},
   "outputs": [
    {
     "data": {
      "application/vnd.microsoft.datawrangler.viewer.v0+json": {
       "columns": [
        {
         "name": "Sentiment",
         "rawType": "object",
         "type": "string"
        },
        {
         "name": "count",
         "rawType": "int64",
         "type": "integer"
        }
       ],
       "ref": "3226ce88-85e8-4e6d-924f-3810fafe2b01",
       "rows": [
        [
         "positive",
         "97227"
        ],
        [
         "neutral",
         "5071"
        ],
        [
         "negative",
         "4720"
        ]
       ],
       "shape": {
        "columns": 1,
        "rows": 3
       }
      },
      "text/plain": [
       "Sentiment\n",
       "positive    97227\n",
       "neutral      5071\n",
       "negative     4720\n",
       "Name: count, dtype: int64"
      ]
     },
     "execution_count": 18,
     "metadata": {},
     "output_type": "execute_result"
    }
   ],
   "source": [
    "df['Sentiment'].value_counts()"
   ]
  },
  {
   "cell_type": "code",
   "execution_count": 22,
   "id": "b6986769",
   "metadata": {},
   "outputs": [],
   "source": [
    "# ==========================================================\n",
    "# Evaluation Function (same structure, with AUC and logs)\n",
    "# ==========================================================\n",
    "def evaluate_and_log_model(name, model, X_train, X_test, y_train, y_test, target_names):\n",
    "    print(f\"\\n🚀 Training {name}...\")\n",
    "    start_time = time.time()\n",
    "    model.fit(X_train, y_train)\n",
    "    train_time = time.time() - start_time\n",
    "\n",
    "    # --- predictions ---\n",
    "    y_pred_train = model.predict(X_train)\n",
    "    y_pred_test = model.predict(X_test)\n",
    "\n",
    "    # --- accuracies ---\n",
    "    train_acc = accuracy_score(y_train, y_pred_train)\n",
    "    test_acc = accuracy_score(y_test, y_pred_test)\n",
    "    print(f\"✅ {name} trained in {train_time:.2f}s | Train Acc={train_acc:.4f} | Test Acc={test_acc:.4f}\")\n",
    "\n",
    "    # --- classification report ---\n",
    "    report = classification_report(y_test, y_pred_test, target_names=target_names, output_dict=True)\n",
    "\n",
    "    # --- create directory ---\n",
    "    folder = f'./results/{name.replace(\" \", \"_\")}'\n",
    "    os.makedirs(folder, exist_ok=True)\n",
    "\n",
    "    # --- save report to JSON ---\n",
    "    with open(f'{folder}/accuracy_report.json', 'w') as f:\n",
    "        json.dump({\n",
    "            'model': name,\n",
    "            'train_accuracy': train_acc,\n",
    "            'test_accuracy': test_acc,\n",
    "            'train_time_sec': train_time,\n",
    "            'classification_report': report\n",
    "        }, f, indent=4)\n",
    "\n",
    "    # --- ROC-AUC ---\n",
    "    try:\n",
    "        if hasattr(model, \"predict_proba\"):\n",
    "            y_prob = model.predict_proba(X_test)\n",
    "        elif hasattr(model, \"decision_function\"):\n",
    "            y_prob = model.decision_function(X_test)\n",
    "        else:\n",
    "            y_prob = None\n",
    "\n",
    "        if y_prob is not None:\n",
    "            y_bin = label_binarize(y_test, classes=np.unique(y_test))\n",
    "            n_classes = y_bin.shape[1]\n",
    "            fpr, tpr, roc_auc = {}, {}, {}\n",
    "\n",
    "            for i in range(n_classes):\n",
    "                fpr[i], tpr[i], _ = roc_curve(y_bin[:, i], y_prob[:, i])\n",
    "                roc_auc[i] = auc(fpr[i], tpr[i])\n",
    "\n",
    "            plt.figure(figsize=(6, 5))\n",
    "            for i in range(n_classes):\n",
    "                plt.plot(fpr[i], tpr[i], lw=2,\n",
    "                         label=f'Class {target_names[i]} (AUC={roc_auc[i]:.2f})')\n",
    "            plt.plot([0, 1], [0, 1], 'k--')\n",
    "            plt.xlabel('False Positive Rate')\n",
    "            plt.ylabel('True Positive Rate')\n",
    "            plt.title(f'ROC Curve – {name}')\n",
    "            plt.legend()\n",
    "            plt.tight_layout()\n",
    "            plt.savefig(f'{folder}/roc_curve.png', dpi=120)\n",
    "            plt.close()\n",
    "    except Exception as e:\n",
    "        print(f\"⚠️ Could not compute ROC for {name}: {e}\")\n",
    "\n",
    "    # --- Train vs Test Accuracy chart ---\n",
    "    plt.figure(figsize=(4, 5))\n",
    "    plt.bar(['Train', 'Test'], [train_acc, test_acc], color=['#4e79a7', '#f28e2b'])\n",
    "    plt.title(f'{name} Accuracy Comparison')\n",
    "    plt.ylabel('Accuracy')\n",
    "    plt.ylim(0, 1)\n",
    "    plt.tight_layout()\n",
    "    plt.savefig(f'{folder}/train_vs_test_accuracy.png', dpi=120)\n",
    "    plt.close()\n",
    "\n",
    "    print(f\"📂 Logs saved under: {folder}\\n\")\n",
    "\n",
    "    return {'name': name, 'train_acc': train_acc, 'test_acc': test_acc, 'train_time': train_time}\n",
    "\n",
    "# ==========================================================\n",
    "# Create Balanced / Tuned Models\n",
    "# ==========================================================\n",
    "def create_balanced_models():\n",
    "    \"\"\"Return dict of imbalance-aware models ready for evaluation.\"\"\"\n",
    "    \n",
    "    # --- Logistic Regression with class_weight balanced ---\n",
    "    balanced_tuning_logreg = LogisticRegression(\n",
    "        max_iter=1000,\n",
    "        class_weight='balanced',\n",
    "        solver='liblinear'\n",
    "    )\n",
    "\n",
    "    # --- Complement Naive Bayes (robust on imbalance) ---\n",
    "    balanced_tuning_complementnb = ComplementNB(alpha=0.5)\n",
    "\n",
    "    # --- Linear SVM (balanced + calibrated for probas) ---\n",
    "    balanced_tuning_svm = CalibratedClassifierCV(\n",
    "    estimator=LinearSVC(class_weight='balanced'),  # 👈 changed here\n",
    "    method='sigmoid',\n",
    "    cv=3\n",
    "    )\n",
    "\n",
    "    # --- Logistic Regression + RandomOversampling pipeline ---\n",
    "    balanced_tuning_logreg_ros = Pipeline([\n",
    "        ('ros', RandomOverSampler(random_state=42)),\n",
    "        ('clf', LogisticRegression(max_iter=1000))\n",
    "    ])\n",
    "\n",
    "    return {\n",
    "        'balanced_tuning_logreg': balanced_tuning_logreg,\n",
    "        'balanced_tuning_complementnb': balanced_tuning_complementnb,\n",
    "        'balanced_tuning_svm': balanced_tuning_svm,\n",
    "        'balanced_tuning_logreg_ros': balanced_tuning_logreg_ros\n",
    "    }"
   ]
  },
  {
   "cell_type": "code",
   "execution_count": 23,
   "id": "68f6d15f",
   "metadata": {},
   "outputs": [
    {
     "name": "stdout",
     "output_type": "stream",
     "text": [
      "\n",
      "🚀 Training balanced_tuning_logreg...\n"
     ]
    },
    {
     "name": "stderr",
     "output_type": "stream",
     "text": [
      "c:\\Users\\alex7\\anaconda3\\envs\\NLP_ENV_ITRPA\\Lib\\site-packages\\sklearn\\linear_model\\_logistic.py:1296: FutureWarning: Using the 'liblinear' solver for multiclass classification is deprecated. An error will be raised in 1.8. Either use another solver which supports the multinomial loss or wrap the estimator in a OneVsRestClassifier to keep applying a one-versus-rest scheme.\n",
      "  warnings.warn(\n"
     ]
    },
    {
     "name": "stdout",
     "output_type": "stream",
     "text": [
      "✅ balanced_tuning_logreg trained in 1.04s | Train Acc=0.9421 | Test Acc=0.9085\n",
      "📂 Logs saved under: ./results/balanced_tuning_logreg\n",
      "\n",
      "\n",
      "🚀 Training balanced_tuning_complementnb...\n",
      "✅ balanced_tuning_complementnb trained in 0.00s | Train Acc=0.8545 | Test Acc=0.8238\n",
      "📂 Logs saved under: ./results/balanced_tuning_complementnb\n",
      "\n",
      "\n",
      "🚀 Training balanced_tuning_svm...\n",
      "✅ balanced_tuning_svm trained in 2.94s | Train Acc=0.9399 | Test Acc=0.9211\n",
      "📂 Logs saved under: ./results/balanced_tuning_svm\n",
      "\n",
      "\n",
      "🚀 Training balanced_tuning_logreg_ros...\n",
      "✅ balanced_tuning_logreg_ros trained in 6.85s | Train Acc=0.9095 | Test Acc=0.8477\n",
      "📂 Logs saved under: ./results/balanced_tuning_logreg_ros\n",
      "\n"
     ]
    },
    {
     "data": {
      "image/png": "[encoded data removed]",
      "text/plain": [
       "<Figure size 600x500 with 1 Axes>"
      ]
     },
     "metadata": {},
     "output_type": "display_data"
    }
   ],
   "source": [
    "# Get target names\n",
    "target_names = ['negative','neutral','positive']\n",
    "\n",
    "# Get balanced models\n",
    "models = create_balanced_models()\n",
    "\n",
    "# Evaluate\n",
    "results = []\n",
    "for name, model in models.items():\n",
    "    res = evaluate_and_log_model(name, model, X_train, X_test, y_train, y_test, target_names)\n",
    "    results.append(res)\n",
    "\n",
    "# Compare test accuracies\n",
    "plt.figure(figsize=(6,5))\n",
    "plt.bar([r['name'] for r in results], [r['test_acc'] for r in results], color='#59a14f')\n",
    "plt.xticks(rotation=20, ha='right')\n",
    "plt.ylabel('Test Accuracy')\n",
    "plt.title('Balanced Model Comparison')\n",
    "plt.tight_layout()\n",
    "plt.savefig('./results/balanced_model_comparison.png', dpi=120)\n",
    "plt.show()"
   ]
  },
  {
   "cell_type": "markdown",
   "id": "ebef6775",
   "metadata": {},
   "source": [
    "# Redoing Subsets for Class Imbalance"
   ]
  },
  {
   "cell_type": "code",
   "execution_count": 46,
   "id": "7588f7d7",
   "metadata": {},
   "outputs": [
    {
     "data": {
      "text/plain": [
       "Index(['Id', 'Review', 'Label', 'processed', 'is_english', 'Sentiment',\n",
       "       'Sentiment_encoded'],\n",
       "      dtype='object')"
      ]
     },
     "execution_count": 46,
     "metadata": {},
     "output_type": "execute_result"
    }
   ],
   "source": [
    "df.columns"
   ]
  },
  {
   "cell_type": "code",
   "execution_count": 47,
   "id": "a10b5c4b",
   "metadata": {},
   "outputs": [
    {
     "name": "stdout",
     "output_type": "stream",
     "text": [
      "Train: 9912 Test: 4248\n",
      "Train class counts:\n",
      " Sentiment\n",
      "negative    3304\n",
      "neutral     3304\n",
      "positive    3304\n",
      "Name: count, dtype: int64\n",
      "Test class counts:\n",
      " Sentiment\n",
      "positive    1416\n",
      "negative    1416\n",
      "neutral     1416\n",
      "Name: count, dtype: int64\n"
     ]
    }
   ],
   "source": [
    "n_per_class = 4720\n",
    "\n",
    "df_balanced = (\n",
    "    df.groupby('Sentiment_encoded', group_keys=False, sort=False)\n",
    "      .apply(lambda g: g.sample(n=n_per_class, random_state=42), include_groups=False)\n",
    "      .sample(frac=1, random_state=42)  # shuffle\n",
    "      .reset_index(drop=True)\n",
    ")\n",
    "\n",
    "X = df_balanced['processed']\n",
    "y = df_balanced['Sentiment']\n",
    "\n",
    "X_train, X_test, y_train, y_test = train_test_split(\n",
    "    X, y, test_size=0.3, stratify=y, random_state=42\n",
    ")\n",
    "\n",
    "print(\"Train:\", len(X_train), \"Test:\", len(X_test))\n",
    "print(\"Train class counts:\\n\", y_train.value_counts())\n",
    "print(\"Test class counts:\\n\", y_test.value_counts())"
   ]
  },
  {
   "cell_type": "code",
   "execution_count": 48,
   "id": "ed981318",
   "metadata": {},
   "outputs": [
    {
     "name": "stdout",
     "output_type": "stream",
     "text": [
      "Train shape: (9912, 10000)\n",
      "Test shape: (4248, 10000)\n"
     ]
    }
   ],
   "source": [
    "tfidf = TfidfVectorizer(\n",
    "    max_features=10000,      \n",
    "    ngram_range=(1, 2),      \n",
    "    stop_words='english',    \n",
    "    sublinear_tf=True        \n",
    ")\n",
    "\n",
    "X_train_tfidf = tfidf.fit_transform(X_train)\n",
    "X_test_tfidf  = tfidf.transform(X_test)\n",
    "\n",
    "print(\"Train shape:\", X_train_tfidf.shape)\n",
    "print(\"Test shape:\", X_test_tfidf.shape)"
   ]
  },
  {
   "cell_type": "code",
   "execution_count": 49,
   "id": "17d785dd",
   "metadata": {},
   "outputs": [
    {
     "name": "stdout",
     "output_type": "stream",
     "text": [
      "Actual features: 10000\n"
     ]
    }
   ],
   "source": [
    "tfidf.fit(X_train)\n",
    "print(\"Actual features:\", len(tfidf.get_feature_names_out()))\n"
   ]
  },
  {
   "cell_type": "code",
   "execution_count": 50,
   "id": "20e52c9a",
   "metadata": {},
   "outputs": [
    {
     "name": "stdout",
     "output_type": "stream",
     "text": [
      "\n",
      "🚀 Training Logistic_Regression_BALANCED...\n",
      "✅ Logistic_Regression_BALANCED trained in 0.24s | Train Acc=0.8507 | Test Acc=0.6605\n",
      "📂 Logs saved under: ./results/Logistic_Regression_BALANCED\n",
      "\n",
      "\n",
      "🚀 Training Naive_Bayes_BALANCED...\n",
      "✅ Naive_Bayes_BALANCED trained in 0.01s | Train Acc=0.8205 | Test Acc=0.6660\n",
      "📂 Logs saved under: ./results/Naive_Bayes_BALANCED\n",
      "\n",
      "\n",
      "🚀 Training Linear_SVM_BALANCED...\n",
      "✅ Linear_SVM_BALANCED trained in 0.06s | Train Acc=0.9433 | Test Acc=0.6396\n",
      "📂 Logs saved under: ./results/Linear_SVM_BALANCED\n",
      "\n"
     ]
    }
   ],
   "source": [
    "models = {\n",
    "    \"Logistic_Regression_BALANCED\": LogisticRegression(max_iter=1000),\n",
    "    \"Naive_Bayes_BALANCED\": MultinomialNB(),\n",
    "    \"Linear_SVM_BALANCED\": LinearSVC()\n",
    "}\n",
    "\n",
    "results = []\n",
    "\n",
    "for name, model in models.items():\n",
    "    result = evaluate_and_log_model(name, model, X_train_tfidf, X_test_tfidf, y_train, y_test, target_names=['negative','neutral','positive'])\n",
    "    results.append(result)"
   ]
  },
  {
   "cell_type": "code",
   "execution_count": 51,
   "id": "315ebe28",
   "metadata": {},
   "outputs": [
    {
     "name": "stdout",
     "output_type": "stream",
     "text": [
      "\n",
      "LogReg\n",
      "Accuracy: 0.6605461393596986\n",
      "Macro-F1: 0.6607557767630488\n",
      "\n",
      "NB\n",
      "Accuracy: 0.6659604519774012\n",
      "Macro-F1: 0.6651012080070066\n",
      "\n",
      "SVM\n",
      "Accuracy: 0.6395951035781544\n",
      "Macro-F1: 0.638435666129081\n",
      "\n",
      "RF\n",
      "Accuracy: 0.6358286252354048\n",
      "Macro-F1: 0.6312225858338149\n",
      "[LightGBM] [Info] Auto-choosing row-wise multi-threading, the overhead of testing was 0,024681 seconds.\n",
      "You can set `force_row_wise=true` to remove the overhead.\n",
      "And if memory is not enough, you can set `force_col_wise=true`.\n",
      "[LightGBM] [Info] Total Bins 42812\n",
      "[LightGBM] [Info] Number of data points in the train set: 9912, number of used features: 1461\n",
      "[LightGBM] [Info] Start training from score -1,098612\n",
      "[LightGBM] [Info] Start training from score -1,098612\n",
      "[LightGBM] [Info] Start training from score -1,098612\n",
      "\n",
      "LGBM\n",
      "Accuracy: 0.6226459510357816\n",
      "Macro-F1: 0.6228008328934432\n"
     ]
    },
    {
     "name": "stderr",
     "output_type": "stream",
     "text": [
      "c:\\Users\\alex7\\anaconda3\\envs\\NLP_ENV_ITRPA\\Lib\\site-packages\\sklearn\\utils\\validation.py:2749: UserWarning: X does not have valid feature names, but LGBMClassifier was fitted with feature names\n",
      "  warnings.warn(\n"
     ]
    }
   ],
   "source": [
    "models = {\n",
    "    \"LogReg\": LogisticRegression(max_iter=1000),\n",
    "    \"NB\": MultinomialNB(),\n",
    "    \"SVM\": LinearSVC(),\n",
    "    \"RF\": RandomForestClassifier(n_estimators=200, n_jobs=-1),\n",
    "    \"LGBM\": LGBMClassifier(n_estimators=300, num_leaves=64, n_jobs=-1)\n",
    "}\n",
    "\n",
    "for name, model in models.items():\n",
    "    model.fit(X_train_tfidf, y_train)\n",
    "    y_pred = model.predict(X_test_tfidf)\n",
    "    print(f\"\\n{name}\")\n",
    "    print(\"Accuracy:\", accuracy_score(y_test, y_pred))\n",
    "    print(\"Macro-F1:\", f1_score(y_test, y_pred, average='macro'))"
   ]
  },
  {
   "cell_type": "code",
   "execution_count": 56,
   "id": "744361c9",
   "metadata": {},
   "outputs": [
    {
     "name": "stderr",
     "output_type": "stream",
     "text": [
      "c:\\Users\\alex7\\anaconda3\\envs\\NLP_ENV_ITRPA\\Lib\\site-packages\\xgboost\\training.py:183: UserWarning: [20:06:41] WARNING: C:\\actions-runner\\_work\\xgboost\\xgboost\\src\\learner.cc:738: \n",
      "Parameters: { \"use_label_encoder\" } are not used.\n",
      "\n",
      "  bst.update(dtrain, iteration=i, fobj=obj)\n"
     ]
    },
    {
     "name": "stdout",
     "output_type": "stream",
     "text": [
      "Accuracy: 0.6471280602636534\n",
      "Macro-F1: 0.6467702662348104\n",
      "              precision    recall  f1-score   support\n",
      "\n",
      "    negative       0.62      0.67      0.65      1416\n",
      "     neutral       0.56      0.53      0.54      1416\n",
      "    positive       0.76      0.74      0.75      1416\n",
      "\n",
      "    accuracy                           0.65      4248\n",
      "   macro avg       0.65      0.65      0.65      4248\n",
      "weighted avg       0.65      0.65      0.65      4248\n",
      "\n"
     ]
    }
   ],
   "source": [
    "# XGBoost\n",
    "y_train_enc = le.fit_transform(y_train)\n",
    "y_test_enc  = le.transform(y_test)\n",
    "\n",
    "xgb = XGBClassifier(\n",
    "    n_estimators=300,        \n",
    "    learning_rate=0.1,       \n",
    "    max_depth=6,            \n",
    "    subsample=0.8,           \n",
    "    colsample_bytree=0.8,    \n",
    "    objective='multi:softprob',  \n",
    "    num_class=3,             \n",
    "    eval_metric='mlogloss',  \n",
    "    n_jobs=-1,\n",
    "    random_state=42,\n",
    "    use_label_encoder=False  \n",
    ")\n",
    "\n",
    "# --- Train ---\n",
    "xgb.fit(X_train_tfidf.toarray(), y_train_enc)\n",
    "\n",
    "# --- Predict ---\n",
    "y_pred = xgb.predict(X_test_tfidf.toarray())\n",
    "\n",
    "# --- Evaluate ---\n",
    "print(\"Accuracy:\", accuracy_score(y_test_enc, y_pred))\n",
    "print(\"Macro-F1:\", f1_score(y_test_enc, y_pred, average='macro'))\n",
    "print(classification_report(y_test_enc, y_pred, target_names=['negative','neutral','positive']))\n"
   ]
  },
  {
   "cell_type": "markdown",
   "id": "0d283f8b",
   "metadata": {},
   "source": [
    "# Hyper Parameter Tuning"
   ]
  },
  {
   "cell_type": "code",
   "execution_count": 80,
   "id": "8f0f6979",
   "metadata": {},
   "outputs": [
    {
     "name": "stdout",
     "output_type": "stream",
     "text": [
      "Fold 1: class counts -> [1102 1101 1101]\n",
      "Fold 2: class counts -> [1101 1102 1101]\n",
      "Fold 3: class counts -> [1101 1101 1102]\n"
     ]
    }
   ],
   "source": [
    "cv = StratifiedKFold(n_splits=3, shuffle=True, random_state=42)\n",
    "for i, (_, val_idx) in enumerate(cv.split(X_train_tfidf, y_train_enc )):\n",
    "    print(f\"Fold {i+1}: class counts -> {np.bincount(y_train_enc[val_idx])}\")"
   ]
  },
  {
   "cell_type": "code",
   "execution_count": 77,
   "id": "314a3cb7",
   "metadata": {},
   "outputs": [
    {
     "name": "stdout",
     "output_type": "stream",
     "text": [
      "Fitting 3 folds for each of 16 candidates, totalling 48 fits\n",
      "Best LR params: {'C': 1, 'class_weight': None, 'penalty': 'l2', 'solver': 'lbfgs'}\n",
      "Best LR macro-F1: 0.6607111866449021\n"
     ]
    }
   ],
   "source": [
    "f1_macro = make_scorer(f1_score, average='macro')\n",
    "cv = StratifiedKFold(n_splits=3, shuffle=True, random_state=42)\n",
    "\n",
    "param_grid_lr = {\n",
    "    'C': [0.01, 0.1, 1, 10],\n",
    "    'solver': ['lbfgs', 'saga'],\n",
    "    'penalty': ['l2'],\n",
    "    'class_weight': [None, 'balanced']\n",
    "}\n",
    "\n",
    "lr = LogisticRegression(max_iter=1000, n_jobs=-1, random_state=42)\n",
    "\n",
    "grid_lr = GridSearchCV(\n",
    "    lr,\n",
    "    param_grid_lr,\n",
    "    scoring=f1_macro,\n",
    "    cv=cv,\n",
    "    n_jobs=-1,\n",
    "    verbose=2,\n",
    "    error_score=0\n",
    ")\n",
    "\n",
    "grid_lr.fit(X_train_tfidf, y_train_enc)\n",
    "print(\"Best LR params:\", grid_lr.best_params_)\n",
    "print(\"Best LR macro-F1:\", grid_lr.best_score_)\n",
    "tuned_logreg = grid_lr.best_estimator_\n"
   ]
  },
  {
   "cell_type": "code",
   "execution_count": 78,
   "id": "94307463",
   "metadata": {},
   "outputs": [
    {
     "name": "stdout",
     "output_type": "stream",
     "text": [
      "\n",
      "🚀 Training tuned_logreg...\n",
      "✅ tuned_logreg trained in 1.19s | Train Acc=0.8507 | Test Acc=0.6605\n",
      "📂 Logs saved under: ./results/tuned_logreg\n",
      "\n"
     ]
    }
   ],
   "source": [
    "results_lr = evaluate_and_log_model(\n",
    "    name=\"tuned_logreg\",\n",
    "    model=tuned_logreg,\n",
    "    X_train=X_train_tfidf,\n",
    "    X_test=X_test_tfidf,\n",
    "    y_train=y_train_enc,\n",
    "    y_test=y_test_enc,\n",
    "    target_names=target_names\n",
    ")"
   ]
  },
  {
   "cell_type": "code",
   "execution_count": 81,
   "id": "d424f3fb",
   "metadata": {},
   "outputs": [
    {
     "name": "stdout",
     "output_type": "stream",
     "text": [
      "Fitting 3 folds for each of 10 candidates, totalling 30 fits\n",
      "\n",
      "🔍 Best NB params: {'alpha': 2.0, 'fit_prior': False}\n",
      "🏁 Best NB macro-F1 (CV): 0.6675720733854807\n"
     ]
    }
   ],
   "source": [
    "nb = MultinomialNB()\n",
    "\n",
    "param_grid_nb = {\n",
    "    \"alpha\": [0.1, 0.3, 0.5, 1.0, 2.0],\n",
    "    \"fit_prior\": [True, False]\n",
    "}\n",
    "\n",
    "grid_nb = GridSearchCV(\n",
    "    estimator=nb,\n",
    "    param_grid=param_grid_nb,\n",
    "    scoring=f1_macro,\n",
    "    cv=cv,\n",
    "    n_jobs=-1,\n",
    "    verbose=2,\n",
    "    error_score=0\n",
    ")\n",
    "\n",
    "grid_nb.fit(X_train_tfidf, y_train_enc)\n",
    "\n",
    "print(\"\\n🔍 Best NB params:\", grid_nb.best_params_)\n",
    "print(\"🏁 Best NB macro-F1 (CV):\", grid_nb.best_score_)\n"
   ]
  },
  {
   "cell_type": "code",
   "execution_count": 82,
   "id": "fc6d7cb6",
   "metadata": {},
   "outputs": [
    {
     "name": "stdout",
     "output_type": "stream",
     "text": [
      "Fitting 3 folds for each of 16 candidates, totalling 48 fits\n",
      "\n",
      "🔍 Best SVM params: {'C': 0.1, 'class_weight': 'balanced', 'loss': 'squared_hinge'}\n",
      "🏁 Best SVM macro-F1 (CV): 0.6619972343650874\n"
     ]
    }
   ],
   "source": [
    "svm = LinearSVC(max_iter=2000, random_state=42)\n",
    "\n",
    "param_grid_svm = {\n",
    "    \"C\": [0.01, 0.1, 1, 10],\n",
    "    \"loss\": [\"hinge\", \"squared_hinge\"],\n",
    "    \"class_weight\": [None, \"balanced\"]\n",
    "}\n",
    "\n",
    "grid_svm = GridSearchCV(\n",
    "    estimator=svm,\n",
    "    param_grid=param_grid_svm,\n",
    "    scoring=f1_macro,\n",
    "    cv=cv,\n",
    "    n_jobs=-1,\n",
    "    verbose=2,\n",
    "    error_score=0\n",
    ")\n",
    "\n",
    "grid_svm.fit(X_train_tfidf, y_train_enc)\n",
    "\n",
    "print(\"\\n🔍 Best SVM params:\", grid_svm.best_params_)\n",
    "print(\"🏁 Best SVM macro-F1 (CV):\", grid_svm.best_score_)\n"
   ]
  },
  {
   "cell_type": "code",
   "execution_count": 83,
   "id": "18f34802",
   "metadata": {},
   "outputs": [],
   "source": [
    "tuned_nb = grid_nb.best_estimator_\n",
    "tuned_svm = grid_svm.best_estimator_\n"
   ]
  },
  {
   "cell_type": "code",
   "execution_count": 84,
   "id": "4d38af33",
   "metadata": {},
   "outputs": [
    {
     "name": "stdout",
     "output_type": "stream",
     "text": [
      "\n",
      "🚀 Training tuned_nb...\n",
      "✅ tuned_nb trained in 0.00s | Train Acc=0.8036 | Test Acc=0.6645\n",
      "📂 Logs saved under: ./results/tuned_nb\n",
      "\n",
      "\n",
      "🚀 Training tuned_svm...\n",
      "✅ tuned_svm trained in 0.02s | Train Acc=0.8202 | Test Acc=0.6681\n",
      "📂 Logs saved under: ./results/tuned_svm\n",
      "\n"
     ]
    },
    {
     "data": {
      "text/plain": [
       "{'name': 'tuned_svm',\n",
       " 'train_acc': 0.8202179176755447,\n",
       " 'test_acc': 0.6680790960451978,\n",
       " 'train_time': 0.02460479736328125}"
      ]
     },
     "execution_count": 84,
     "metadata": {},
     "output_type": "execute_result"
    }
   ],
   "source": [
    "target_names = [\"negative\", \"neutral\", \"positive\"]\n",
    "\n",
    "evaluate_and_log_model(\n",
    "    name=\"tuned_nb\",\n",
    "    model=tuned_nb,\n",
    "    X_train=X_train_tfidf,\n",
    "    X_test=X_test_tfidf,\n",
    "    y_train=y_train_enc,\n",
    "    y_test=y_test_enc,\n",
    "    target_names=target_names\n",
    ")\n",
    "\n",
    "evaluate_and_log_model(\n",
    "    name=\"tuned_svm\",\n",
    "    model=tuned_svm,\n",
    "    X_train=X_train_tfidf,\n",
    "    X_test=X_test_tfidf,\n",
    "    y_train=y_train_enc,\n",
    "    y_test=y_test_enc,\n",
    "    target_names=target_names\n",
    ")\n"
   ]
  },
  {
   "cell_type": "markdown",
   "id": "08318f17",
   "metadata": {},
   "source": [
    "# Transfer The preprocessed Data to Object Pickling "
   ]
  },
  {
   "cell_type": "code",
   "execution_count": 87,
   "id": "51bc7fdb",
   "metadata": {},
   "outputs": [
    {
     "name": "stdout",
     "output_type": "stream",
     "text": [
      "Saved: outputs_processing/processed_data.pkl (TF-IDF, encoded labels, and raw text)\n"
     ]
    }
   ],
   "source": [
    "# --- ensure output folder exists ---\n",
    "os.makedirs('outputs_processing', exist_ok=True)\n",
    "\n",
    "# --- save all useful data ---\n",
    "with open('outputs_processing/processed_data.pkl', 'wb') as f:\n",
    "    pickle.dump({\n",
    "        # TF-IDF features\n",
    "        'X_train_tfidf': X_train_tfidf,\n",
    "        'X_test_tfidf': X_test_tfidf,\n",
    "        \n",
    "        # Encoded labels\n",
    "        'y_train_enc': y_train_enc,\n",
    "        'y_test_enc': y_test_enc,\n",
    "        \n",
    "        # Raw text (for DL / tokenizers)\n",
    "        'X_train': X_train,\n",
    "        'X_test': X_test,\n",
    "        'y_train': y_train,\n",
    "        'y_test': y_test,\n",
    "\n",
    "        # X and y\n",
    "        'X': X,\n",
    "        'y': y,\n",
    "    }, f)\n",
    "\n",
    "print(\"Saved: outputs_processing/processed_data.pkl (TF-IDF, encoded labels, and raw text)\")"
   ]
  }
 ],
 "metadata": {
  "kernelspec": {
   "display_name": "NLP_ENV_ITRPA",
   "language": "python",
   "name": "python3"
  },
  "language_info": {
   "codemirror_mode": {
    "name": "ipython",
    "version": 3
   },
   "file_extension": ".py",
   "mimetype": "text/x-python",
   "name": "python",
   "nbconvert_exporter": "python",
   "pygments_lexer": "ipython3",
   "version": "3.11.13"
  }
 },
 "nbformat": 4,
 "nbformat_minor": 5
}
